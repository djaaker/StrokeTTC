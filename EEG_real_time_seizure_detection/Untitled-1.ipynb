{
 "cells": [
  {
   "cell_type": "code",
   "execution_count": 16,
   "metadata": {},
   "outputs": [
    {
     "data": {
      "text/plain": [
       "'/Volumes/SDCARD/v2.0.3/edf/train'"
      ]
     },
     "metadata": {},
     "output_type": "display_data"
    },
    {
     "name": "stdout",
     "output_type": "stream",
     "text": [
      "file ran\n"
     ]
    },
    {
     "data": {
      "text/plain": [
       "'/Volumes/SDCARD/v2.0.3/edf/train/aaaaaaac/s001_2002/02_tcp_le/aaaaaaac_s001_t000.edf'"
      ]
     },
     "metadata": {},
     "output_type": "display_data"
    },
    {
     "name": "stdout",
     "output_type": "stream",
     "text": [
      "Label for Patient ID 'aaaaaaac': 1\n",
      "file ran\n"
     ]
    },
    {
     "name": "stderr",
     "output_type": "stream",
     "text": [
      "/var/folders/49/g0lpzfvd69300kvmdpb070m40000gn/T/ipykernel_38387/556509763.py:114: RuntimeWarning: No bad channels to interpolate. Doing nothing...\n",
      "  RawEEGDataFile.interpolate_bads(verbose=False)\n",
      "/var/folders/49/g0lpzfvd69300kvmdpb070m40000gn/T/ipykernel_38387/556509763.py:149: RuntimeWarning: invalid value encountered in divide\n",
      "  AlDeRat = AlphaMean / DeltaMean\n"
     ]
    },
    {
     "data": {
      "text/plain": [
       "'/Volumes/SDCARD/v2.0.3/edf/train/aaaaaaac/s001_2002/02_tcp_le/aaaaaaac_s001_t001.edf'"
      ]
     },
     "metadata": {},
     "output_type": "display_data"
    },
    {
     "name": "stderr",
     "output_type": "stream",
     "text": [
      "/var/folders/49/g0lpzfvd69300kvmdpb070m40000gn/T/ipykernel_38387/556509763.py:114: RuntimeWarning: No bad channels to interpolate. Doing nothing...\n",
      "  RawEEGDataFile.interpolate_bads(verbose=False)\n"
     ]
    },
    {
     "name": "stdout",
     "output_type": "stream",
     "text": [
      "Label for Patient ID 'aaaaaaac': 1\n",
      "file ran\n"
     ]
    },
    {
     "data": {
      "text/plain": [
       "'/Volumes/SDCARD/v2.0.3/edf/train/aaaaaaac/s002_2002/02_tcp_le/aaaaaaac_s002_t000.edf'"
      ]
     },
     "metadata": {},
     "output_type": "display_data"
    },
    {
     "name": "stdout",
     "output_type": "stream",
     "text": [
      "Label for Patient ID 'aaaaaaac': 1\n",
      "file ran\n"
     ]
    },
    {
     "name": "stderr",
     "output_type": "stream",
     "text": [
      "/var/folders/49/g0lpzfvd69300kvmdpb070m40000gn/T/ipykernel_38387/556509763.py:114: RuntimeWarning: No bad channels to interpolate. Doing nothing...\n",
      "  RawEEGDataFile.interpolate_bads(verbose=False)\n"
     ]
    },
    {
     "data": {
      "text/plain": [
       "'/Volumes/SDCARD/v2.0.3/edf/train/aaaaaaac/s004_2002/02_tcp_le/aaaaaaac_s004_t000.edf'"
      ]
     },
     "metadata": {},
     "output_type": "display_data"
    },
    {
     "name": "stderr",
     "output_type": "stream",
     "text": [
      "/var/folders/49/g0lpzfvd69300kvmdpb070m40000gn/T/ipykernel_38387/556509763.py:114: RuntimeWarning: No bad channels to interpolate. Doing nothing...\n",
      "  RawEEGDataFile.interpolate_bads(verbose=False)\n"
     ]
    },
    {
     "name": "stdout",
     "output_type": "stream",
     "text": [
      "Label for Patient ID 'aaaaaaac': 1\n",
      "file ran\n"
     ]
    },
    {
     "data": {
      "text/plain": [
       "'/Volumes/SDCARD/v2.0.3/edf/train/aaaaaaac/s004_2002/02_tcp_le/aaaaaaac_s004_t002.edf'"
      ]
     },
     "metadata": {},
     "output_type": "display_data"
    },
    {
     "name": "stdout",
     "output_type": "stream",
     "text": [
      "Label for Patient ID 'aaaaaaac': 1\n",
      "file ran\n"
     ]
    },
    {
     "name": "stderr",
     "output_type": "stream",
     "text": [
      "/var/folders/49/g0lpzfvd69300kvmdpb070m40000gn/T/ipykernel_38387/556509763.py:114: RuntimeWarning: No bad channels to interpolate. Doing nothing...\n",
      "  RawEEGDataFile.interpolate_bads(verbose=False)\n"
     ]
    },
    {
     "data": {
      "text/plain": [
       "'/Volumes/SDCARD/v2.0.3/edf/train/aaaaaaac/s005_2002/02_tcp_le/aaaaaaac_s005_t000.edf'"
      ]
     },
     "metadata": {},
     "output_type": "display_data"
    },
    {
     "name": "stdout",
     "output_type": "stream",
     "text": [
      "Label for Patient ID 'aaaaaaac': 1\n",
      "file ran\n"
     ]
    },
    {
     "name": "stderr",
     "output_type": "stream",
     "text": [
      "/var/folders/49/g0lpzfvd69300kvmdpb070m40000gn/T/ipykernel_38387/556509763.py:114: RuntimeWarning: No bad channels to interpolate. Doing nothing...\n",
      "  RawEEGDataFile.interpolate_bads(verbose=False)\n"
     ]
    },
    {
     "data": {
      "text/plain": [
       "'/Volumes/SDCARD/v2.0.3/edf/train/aaaaaaac/s005_2002/02_tcp_le/aaaaaaac_s005_t001.edf'"
      ]
     },
     "metadata": {},
     "output_type": "display_data"
    },
    {
     "name": "stderr",
     "output_type": "stream",
     "text": [
      "/var/folders/49/g0lpzfvd69300kvmdpb070m40000gn/T/ipykernel_38387/556509763.py:114: RuntimeWarning: No bad channels to interpolate. Doing nothing...\n",
      "  RawEEGDataFile.interpolate_bads(verbose=False)\n"
     ]
    },
    {
     "name": "stdout",
     "output_type": "stream",
     "text": [
      "Label for Patient ID 'aaaaaaac': 1\n",
      "file ran\n"
     ]
    },
    {
     "data": {
      "text/plain": [
       "'/Volumes/SDCARD/v2.0.3/edf/train/aaaaaaac/s005_2002/02_tcp_le/aaaaaaac_s005_t002.edf'"
      ]
     },
     "metadata": {},
     "output_type": "display_data"
    },
    {
     "name": "stderr",
     "output_type": "stream",
     "text": [
      "/var/folders/49/g0lpzfvd69300kvmdpb070m40000gn/T/ipykernel_38387/556509763.py:114: RuntimeWarning: No bad channels to interpolate. Doing nothing...\n",
      "  RawEEGDataFile.interpolate_bads(verbose=False)\n"
     ]
    },
    {
     "name": "stdout",
     "output_type": "stream",
     "text": [
      "Label for Patient ID 'aaaaaaac': 1\n",
      "file ran\n"
     ]
    },
    {
     "data": {
      "text/plain": [
       "'/Volumes/SDCARD/v2.0.3/edf/train/aaaaaaac/s005_2002/02_tcp_le/aaaaaaac_s005_t003.edf'"
      ]
     },
     "metadata": {},
     "output_type": "display_data"
    },
    {
     "name": "stdout",
     "output_type": "stream",
     "text": [
      "Label for Patient ID 'aaaaaaac': 1\n",
      "file ran\n"
     ]
    },
    {
     "name": "stderr",
     "output_type": "stream",
     "text": [
      "/var/folders/49/g0lpzfvd69300kvmdpb070m40000gn/T/ipykernel_38387/556509763.py:114: RuntimeWarning: No bad channels to interpolate. Doing nothing...\n",
      "  RawEEGDataFile.interpolate_bads(verbose=False)\n"
     ]
    },
    {
     "data": {
      "text/plain": [
       "'/Volumes/SDCARD/v2.0.3/edf/train/aaaaaaag/s004_2007/03_tcp_ar_a/aaaaaaag_s004_t000.edf'"
      ]
     },
     "metadata": {},
     "output_type": "display_data"
    },
    {
     "name": "stderr",
     "output_type": "stream",
     "text": [
      "/var/folders/49/g0lpzfvd69300kvmdpb070m40000gn/T/ipykernel_38387/556509763.py:114: RuntimeWarning: No bad channels to interpolate. Doing nothing...\n",
      "  RawEEGDataFile.interpolate_bads(verbose=False)\n"
     ]
    },
    {
     "name": "stdout",
     "output_type": "stream",
     "text": [
      "Label for Patient ID 'aaaaaaag': 1\n",
      "file ran\n"
     ]
    },
    {
     "data": {
      "text/plain": [
       "'/Volumes/SDCARD/v2.0.3/edf/train/aaaaaaag/s004_2007/03_tcp_ar_a/aaaaaaag_s004_t001.edf'"
      ]
     },
     "metadata": {},
     "output_type": "display_data"
    },
    {
     "name": "stdout",
     "output_type": "stream",
     "text": [
      "Label for Patient ID 'aaaaaaag': 1\n",
      "file ran\n"
     ]
    },
    {
     "name": "stderr",
     "output_type": "stream",
     "text": [
      "/var/folders/49/g0lpzfvd69300kvmdpb070m40000gn/T/ipykernel_38387/556509763.py:114: RuntimeWarning: No bad channels to interpolate. Doing nothing...\n",
      "  RawEEGDataFile.interpolate_bads(verbose=False)\n"
     ]
    },
    {
     "data": {
      "text/plain": [
       "'/Volumes/SDCARD/v2.0.3/edf/train/aaaaaaag/s004_2007/03_tcp_ar_a/aaaaaaag_s004_t002.edf'"
      ]
     },
     "metadata": {},
     "output_type": "display_data"
    },
    {
     "name": "stdout",
     "output_type": "stream",
     "text": [
      "Label for Patient ID 'aaaaaaag': 1\n",
      "file ran\n"
     ]
    },
    {
     "name": "stderr",
     "output_type": "stream",
     "text": [
      "/var/folders/49/g0lpzfvd69300kvmdpb070m40000gn/T/ipykernel_38387/556509763.py:114: RuntimeWarning: No bad channels to interpolate. Doing nothing...\n",
      "  RawEEGDataFile.interpolate_bads(verbose=False)\n"
     ]
    },
    {
     "data": {
      "text/plain": [
       "'/Volumes/SDCARD/v2.0.3/edf/train/aaaaaaag/s005_2007/03_tcp_ar_a/aaaaaaag_s005_t000.edf'"
      ]
     },
     "metadata": {},
     "output_type": "display_data"
    },
    {
     "name": "stderr",
     "output_type": "stream",
     "text": [
      "/var/folders/49/g0lpzfvd69300kvmdpb070m40000gn/T/ipykernel_38387/556509763.py:114: RuntimeWarning: No bad channels to interpolate. Doing nothing...\n",
      "  RawEEGDataFile.interpolate_bads(verbose=False)\n"
     ]
    },
    {
     "name": "stdout",
     "output_type": "stream",
     "text": [
      "Label for Patient ID 'aaaaaaag': 1\n",
      "file ran\n"
     ]
    },
    {
     "data": {
      "text/plain": [
       "'/Volumes/SDCARD/v2.0.3/edf/train/aaaaaaag/s006_2007/03_tcp_ar_a/aaaaaaag_s006_t000.edf'"
      ]
     },
     "metadata": {},
     "output_type": "display_data"
    },
    {
     "name": "stdout",
     "output_type": "stream",
     "text": [
      "Label for Patient ID 'aaaaaaag': 1\n",
      "file ran\n"
     ]
    },
    {
     "name": "stderr",
     "output_type": "stream",
     "text": [
      "/var/folders/49/g0lpzfvd69300kvmdpb070m40000gn/T/ipykernel_38387/556509763.py:114: RuntimeWarning: No bad channels to interpolate. Doing nothing...\n",
      "  RawEEGDataFile.interpolate_bads(verbose=False)\n"
     ]
    },
    {
     "data": {
      "text/plain": [
       "'/Volumes/SDCARD/v2.0.3/edf/train/aaaaaaag/s006_2007/03_tcp_ar_a/aaaaaaag_s006_t001.edf'"
      ]
     },
     "metadata": {},
     "output_type": "display_data"
    },
    {
     "name": "stderr",
     "output_type": "stream",
     "text": [
      "/var/folders/49/g0lpzfvd69300kvmdpb070m40000gn/T/ipykernel_38387/556509763.py:114: RuntimeWarning: No bad channels to interpolate. Doing nothing...\n",
      "  RawEEGDataFile.interpolate_bads(verbose=False)\n"
     ]
    },
    {
     "name": "stdout",
     "output_type": "stream",
     "text": [
      "Label for Patient ID 'aaaaaaag': 1\n",
      "file ran\n"
     ]
    },
    {
     "data": {
      "text/plain": [
       "'/Volumes/SDCARD/v2.0.3/edf/train/aaaaaaag/s006_2007/03_tcp_ar_a/aaaaaaag_s006_t002.edf'"
      ]
     },
     "metadata": {},
     "output_type": "display_data"
    },
    {
     "name": "stdout",
     "output_type": "stream",
     "text": [
      "Label for Patient ID 'aaaaaaag': 1\n",
      "file ran\n"
     ]
    },
    {
     "name": "stderr",
     "output_type": "stream",
     "text": [
      "/var/folders/49/g0lpzfvd69300kvmdpb070m40000gn/T/ipykernel_38387/556509763.py:114: RuntimeWarning: No bad channels to interpolate. Doing nothing...\n",
      "  RawEEGDataFile.interpolate_bads(verbose=False)\n"
     ]
    },
    {
     "data": {
      "text/plain": [
       "'/Volumes/SDCARD/v2.0.3/edf/train/aaaaaaar/s003_2007/02_tcp_le/aaaaaaar_s003_t000.edf'"
      ]
     },
     "metadata": {},
     "output_type": "display_data"
    },
    {
     "name": "stderr",
     "output_type": "stream",
     "text": [
      "/var/folders/49/g0lpzfvd69300kvmdpb070m40000gn/T/ipykernel_38387/556509763.py:114: RuntimeWarning: No bad channels to interpolate. Doing nothing...\n",
      "  RawEEGDataFile.interpolate_bads(verbose=False)\n"
     ]
    },
    {
     "name": "stdout",
     "output_type": "stream",
     "text": [
      "Label for Patient ID 'aaaaaaar': 1\n",
      "file ran\n"
     ]
    },
    {
     "data": {
      "text/plain": [
       "'/Volumes/SDCARD/v2.0.3/edf/train/aaaaaaav/s001_2006/02_tcp_le/aaaaaaav_s001_t000.edf'"
      ]
     },
     "metadata": {},
     "output_type": "display_data"
    },
    {
     "name": "stderr",
     "output_type": "stream",
     "text": [
      "/var/folders/49/g0lpzfvd69300kvmdpb070m40000gn/T/ipykernel_38387/556509763.py:114: RuntimeWarning: No bad channels to interpolate. Doing nothing...\n",
      "  RawEEGDataFile.interpolate_bads(verbose=False)\n"
     ]
    },
    {
     "name": "stdout",
     "output_type": "stream",
     "text": [
      "Label for Patient ID 'aaaaaaav': 1\n",
      "file ran\n"
     ]
    },
    {
     "data": {
      "text/plain": [
       "'/Volumes/SDCARD/v2.0.3/edf/train/aaaaaabg/s002_2006/02_tcp_le/aaaaaabg_s002_t000.edf'"
      ]
     },
     "metadata": {},
     "output_type": "display_data"
    },
    {
     "name": "stderr",
     "output_type": "stream",
     "text": [
      "/var/folders/49/g0lpzfvd69300kvmdpb070m40000gn/T/ipykernel_38387/556509763.py:114: RuntimeWarning: No bad channels to interpolate. Doing nothing...\n",
      "  RawEEGDataFile.interpolate_bads(verbose=False)\n"
     ]
    },
    {
     "name": "stdout",
     "output_type": "stream",
     "text": [
      "Label for Patient ID 'aaaaaabg': 1\n",
      "file ran\n"
     ]
    },
    {
     "data": {
      "text/plain": [
       "'/Volumes/SDCARD/v2.0.3/edf/train/aaaaaacc/s004_2004/02_tcp_le/aaaaaacc_s004_t000.edf'"
      ]
     },
     "metadata": {},
     "output_type": "display_data"
    },
    {
     "name": "stderr",
     "output_type": "stream",
     "text": [
      "/var/folders/49/g0lpzfvd69300kvmdpb070m40000gn/T/ipykernel_38387/556509763.py:114: RuntimeWarning: No bad channels to interpolate. Doing nothing...\n",
      "  RawEEGDataFile.interpolate_bads(verbose=False)\n"
     ]
    },
    {
     "name": "stdout",
     "output_type": "stream",
     "text": [
      "Label for Patient ID 'aaaaaacc': 1\n",
      "file ran\n"
     ]
    },
    {
     "data": {
      "text/plain": [
       "'/Volumes/SDCARD/v2.0.3/edf/train/aaaaaacz/s001_2003/02_tcp_le/aaaaaacz_s001_t001.edf'"
      ]
     },
     "metadata": {},
     "output_type": "display_data"
    },
    {
     "name": "stderr",
     "output_type": "stream",
     "text": [
      "/var/folders/49/g0lpzfvd69300kvmdpb070m40000gn/T/ipykernel_38387/556509763.py:114: RuntimeWarning: No bad channels to interpolate. Doing nothing...\n",
      "  RawEEGDataFile.interpolate_bads(verbose=False)\n"
     ]
    },
    {
     "name": "stdout",
     "output_type": "stream",
     "text": [
      "Label for Patient ID 'aaaaaacz': 1\n",
      "file ran\n"
     ]
    },
    {
     "data": {
      "text/plain": [
       "'/Volumes/SDCARD/v2.0.3/edf/train/aaaaaacz/s003_2010/01_tcp_ar/aaaaaacz_s003_t000.edf'"
      ]
     },
     "metadata": {},
     "output_type": "display_data"
    },
    {
     "name": "stderr",
     "output_type": "stream",
     "text": [
      "/var/folders/49/g0lpzfvd69300kvmdpb070m40000gn/T/ipykernel_38387/556509763.py:114: RuntimeWarning: No bad channels to interpolate. Doing nothing...\n",
      "  RawEEGDataFile.interpolate_bads(verbose=False)\n"
     ]
    },
    {
     "name": "stdout",
     "output_type": "stream",
     "text": [
      "Label for Patient ID 'aaaaaacz': 1\n",
      "file ran\n"
     ]
    },
    {
     "data": {
      "text/plain": [
       "'/Volumes/SDCARD/v2.0.3/edf/train/aaaaaacz/s006_2015/03_tcp_ar_a/aaaaaacz_s006_t000.edf'"
      ]
     },
     "metadata": {},
     "output_type": "display_data"
    },
    {
     "name": "stderr",
     "output_type": "stream",
     "text": [
      "/var/folders/49/g0lpzfvd69300kvmdpb070m40000gn/T/ipykernel_38387/556509763.py:114: RuntimeWarning: No bad channels to interpolate. Doing nothing...\n",
      "  RawEEGDataFile.interpolate_bads(verbose=False)\n"
     ]
    },
    {
     "name": "stdout",
     "output_type": "stream",
     "text": [
      "Label for Patient ID 'aaaaaacz': 1\n",
      "file ran\n"
     ]
    },
    {
     "data": {
      "text/plain": [
       "'/Volumes/SDCARD/v2.0.3/edf/train/aaaaaaed/s001_2003/02_tcp_le/aaaaaaed_s001_t000.edf'"
      ]
     },
     "metadata": {},
     "output_type": "display_data"
    },
    {
     "name": "stdout",
     "output_type": "stream",
     "text": [
      "Label for Patient ID 'aaaaaaed': 1\n",
      "file ran\n"
     ]
    },
    {
     "name": "stderr",
     "output_type": "stream",
     "text": [
      "/var/folders/49/g0lpzfvd69300kvmdpb070m40000gn/T/ipykernel_38387/556509763.py:114: RuntimeWarning: No bad channels to interpolate. Doing nothing...\n",
      "  RawEEGDataFile.interpolate_bads(verbose=False)\n"
     ]
    },
    {
     "data": {
      "text/plain": [
       "'/Volumes/SDCARD/v2.0.3/edf/train/aaaaaaed/s001_2003/02_tcp_le/aaaaaaed_s001_t001.edf'"
      ]
     },
     "metadata": {},
     "output_type": "display_data"
    },
    {
     "name": "stderr",
     "output_type": "stream",
     "text": [
      "/var/folders/49/g0lpzfvd69300kvmdpb070m40000gn/T/ipykernel_38387/556509763.py:114: RuntimeWarning: No bad channels to interpolate. Doing nothing...\n",
      "  RawEEGDataFile.interpolate_bads(verbose=False)\n"
     ]
    },
    {
     "name": "stdout",
     "output_type": "stream",
     "text": [
      "Label for Patient ID 'aaaaaaed': 1\n",
      "file ran\n"
     ]
    },
    {
     "data": {
      "text/plain": [
       "'/Volumes/SDCARD/v2.0.3/edf/train/aaaaaafn/s001_2003/02_tcp_le/aaaaaafn_s001_t001.edf'"
      ]
     },
     "metadata": {},
     "output_type": "display_data"
    },
    {
     "name": "stdout",
     "output_type": "stream",
     "text": [
      "No label found for Patient ID 'aaaaaafn'\n",
      "file ran\n"
     ]
    },
    {
     "data": {
      "text/plain": [
       "'/Volumes/SDCARD/v2.0.3/edf/train/aaaaaafs/s001_2003/02_tcp_le/aaaaaafs_s001_t000.edf'"
      ]
     },
     "metadata": {},
     "output_type": "display_data"
    },
    {
     "name": "stdout",
     "output_type": "stream",
     "text": [
      "Label for Patient ID 'aaaaaafs': 1\n",
      "file ran\n"
     ]
    },
    {
     "name": "stderr",
     "output_type": "stream",
     "text": [
      "/var/folders/49/g0lpzfvd69300kvmdpb070m40000gn/T/ipykernel_38387/556509763.py:114: RuntimeWarning: No bad channels to interpolate. Doing nothing...\n",
      "  RawEEGDataFile.interpolate_bads(verbose=False)\n"
     ]
    },
    {
     "data": {
      "text/plain": [
       "'/Volumes/SDCARD/v2.0.3/edf/train/aaaaaafs/s001_2003/02_tcp_le/aaaaaafs_s001_t001.edf'"
      ]
     },
     "metadata": {},
     "output_type": "display_data"
    },
    {
     "name": "stderr",
     "output_type": "stream",
     "text": [
      "/var/folders/49/g0lpzfvd69300kvmdpb070m40000gn/T/ipykernel_38387/556509763.py:114: RuntimeWarning: No bad channels to interpolate. Doing nothing...\n",
      "  RawEEGDataFile.interpolate_bads(verbose=False)\n"
     ]
    },
    {
     "name": "stdout",
     "output_type": "stream",
     "text": [
      "Label for Patient ID 'aaaaaafs': 1\n",
      "file ran\n"
     ]
    },
    {
     "data": {
      "text/plain": [
       "'/Volumes/SDCARD/v2.0.3/edf/train/aaaaaagt/s001_2003/02_tcp_le/aaaaaagt_s001_t000.edf'"
      ]
     },
     "metadata": {},
     "output_type": "display_data"
    },
    {
     "name": "stdout",
     "output_type": "stream",
     "text": [
      "No label found for Patient ID 'aaaaaagt'\n",
      "file ran\n"
     ]
    },
    {
     "data": {
      "text/plain": [
       "'/Volumes/SDCARD/v2.0.3/edf/train/aaaaaagt/s001_2003/02_tcp_le/aaaaaagt_s001_t001.edf'"
      ]
     },
     "metadata": {},
     "output_type": "display_data"
    },
    {
     "name": "stdout",
     "output_type": "stream",
     "text": [
      "No label found for Patient ID 'aaaaaagt'\n",
      "file ran\n"
     ]
    },
    {
     "data": {
      "text/plain": [
       "'/Volumes/SDCARD/v2.0.3/edf/train/aaaaaahc/s003_2007/02_tcp_le/aaaaaahc_s003_t000.edf'"
      ]
     },
     "metadata": {},
     "output_type": "display_data"
    },
    {
     "name": "stderr",
     "output_type": "stream",
     "text": [
      "/var/folders/49/g0lpzfvd69300kvmdpb070m40000gn/T/ipykernel_38387/556509763.py:114: RuntimeWarning: No bad channels to interpolate. Doing nothing...\n",
      "  RawEEGDataFile.interpolate_bads(verbose=False)\n"
     ]
    },
    {
     "name": "stdout",
     "output_type": "stream",
     "text": [
      "Label for Patient ID 'aaaaaahc': 1\n",
      "file ran\n"
     ]
    },
    {
     "data": {
      "text/plain": [
       "'/Volumes/SDCARD/v2.0.3/edf/train/aaaaaaii/s002_2003/02_tcp_le/aaaaaaii_s002_t001.edf'"
      ]
     },
     "metadata": {},
     "output_type": "display_data"
    },
    {
     "name": "stderr",
     "output_type": "stream",
     "text": [
      "/var/folders/49/g0lpzfvd69300kvmdpb070m40000gn/T/ipykernel_38387/556509763.py:114: RuntimeWarning: No bad channels to interpolate. Doing nothing...\n",
      "  RawEEGDataFile.interpolate_bads(verbose=False)\n"
     ]
    },
    {
     "name": "stdout",
     "output_type": "stream",
     "text": [
      "Label for Patient ID 'aaaaaaii': 1\n",
      "file ran\n"
     ]
    },
    {
     "data": {
      "text/plain": [
       "'/Volumes/SDCARD/v2.0.3/edf/train/aaaaaajk/s001_2003/02_tcp_le/aaaaaajk_s001_t000.edf'"
      ]
     },
     "metadata": {},
     "output_type": "display_data"
    },
    {
     "name": "stdout",
     "output_type": "stream",
     "text": [
      "No label found for Patient ID 'aaaaaajk'\n",
      "file ran\n"
     ]
    },
    {
     "data": {
      "text/plain": [
       "'/Volumes/SDCARD/v2.0.3/edf/train/aaaaaajk/s001_2003/02_tcp_le/aaaaaajk_s001_t001.edf'"
      ]
     },
     "metadata": {},
     "output_type": "display_data"
    },
    {
     "name": "stdout",
     "output_type": "stream",
     "text": [
      "No label found for Patient ID 'aaaaaajk'\n",
      "file ran\n"
     ]
    },
    {
     "data": {
      "text/plain": [
       "'/Volumes/SDCARD/v2.0.3/edf/train/aaaaaajk/s003_2004/02_tcp_le/aaaaaajk_s003_t001.edf'"
      ]
     },
     "metadata": {},
     "output_type": "display_data"
    },
    {
     "name": "stdout",
     "output_type": "stream",
     "text": [
      "No label found for Patient ID 'aaaaaajk'\n",
      "file ran\n"
     ]
    },
    {
     "data": {
      "text/plain": [
       "'/Volumes/SDCARD/v2.0.3/edf/train/aaaaaaju/s001_2003/02_tcp_le/aaaaaaju_s001_t000.edf'"
      ]
     },
     "metadata": {},
     "output_type": "display_data"
    },
    {
     "name": "stderr",
     "output_type": "stream",
     "text": [
      "/var/folders/49/g0lpzfvd69300kvmdpb070m40000gn/T/ipykernel_38387/556509763.py:114: RuntimeWarning: No bad channels to interpolate. Doing nothing...\n",
      "  RawEEGDataFile.interpolate_bads(verbose=False)\n"
     ]
    },
    {
     "name": "stdout",
     "output_type": "stream",
     "text": [
      "Label for Patient ID 'aaaaaaju': 1\n",
      "file ran\n"
     ]
    },
    {
     "data": {
      "text/plain": [
       "'/Volumes/SDCARD/v2.0.3/edf/train/aaaaaaju/s002_2006/02_tcp_le/aaaaaaju_s002_t000.edf'"
      ]
     },
     "metadata": {},
     "output_type": "display_data"
    },
    {
     "name": "stderr",
     "output_type": "stream",
     "text": [
      "/var/folders/49/g0lpzfvd69300kvmdpb070m40000gn/T/ipykernel_38387/556509763.py:114: RuntimeWarning: No bad channels to interpolate. Doing nothing...\n",
      "  RawEEGDataFile.interpolate_bads(verbose=False)\n"
     ]
    },
    {
     "name": "stdout",
     "output_type": "stream",
     "text": [
      "Label for Patient ID 'aaaaaaju': 1\n",
      "file ran\n"
     ]
    },
    {
     "data": {
      "text/plain": [
       "'/Volumes/SDCARD/v2.0.3/edf/train/aaaaaaju/s003_2006/02_tcp_le/aaaaaaju_s003_t000.edf'"
      ]
     },
     "metadata": {},
     "output_type": "display_data"
    },
    {
     "name": "stderr",
     "output_type": "stream",
     "text": [
      "/var/folders/49/g0lpzfvd69300kvmdpb070m40000gn/T/ipykernel_38387/556509763.py:114: RuntimeWarning: No bad channels to interpolate. Doing nothing...\n",
      "  RawEEGDataFile.interpolate_bads(verbose=False)\n"
     ]
    },
    {
     "name": "stdout",
     "output_type": "stream",
     "text": [
      "Label for Patient ID 'aaaaaaju': 1\n",
      "file ran\n"
     ]
    },
    {
     "data": {
      "text/plain": [
       "'/Volumes/SDCARD/v2.0.3/edf/train/aaaaaaju/s005_2010/01_tcp_ar/aaaaaaju_s005_t000.edf'"
      ]
     },
     "metadata": {},
     "output_type": "display_data"
    },
    {
     "name": "stderr",
     "output_type": "stream",
     "text": [
      "/var/folders/49/g0lpzfvd69300kvmdpb070m40000gn/T/ipykernel_38387/556509763.py:114: RuntimeWarning: No bad channels to interpolate. Doing nothing...\n",
      "  RawEEGDataFile.interpolate_bads(verbose=False)\n"
     ]
    },
    {
     "name": "stdout",
     "output_type": "stream",
     "text": [
      "Label for Patient ID 'aaaaaaju': 1\n",
      "file ran\n"
     ]
    },
    {
     "data": {
      "text/plain": [
       "'/Volumes/SDCARD/v2.0.3/edf/train/aaaaaaju/s006_2011/01_tcp_ar/aaaaaaju_s006_t001.edf'"
      ]
     },
     "metadata": {},
     "output_type": "display_data"
    },
    {
     "name": "stderr",
     "output_type": "stream",
     "text": [
      "/var/folders/49/g0lpzfvd69300kvmdpb070m40000gn/T/ipykernel_38387/556509763.py:114: RuntimeWarning: No bad channels to interpolate. Doing nothing...\n",
      "  RawEEGDataFile.interpolate_bads(verbose=False)\n"
     ]
    },
    {
     "name": "stdout",
     "output_type": "stream",
     "text": [
      "Label for Patient ID 'aaaaaaju': 1\n",
      "file ran\n"
     ]
    },
    {
     "data": {
      "text/plain": [
       "'/Volumes/SDCARD/v2.0.3/edf/train/aaaaaaju/s007_2013/01_tcp_ar/aaaaaaju_s007_t000.edf'"
      ]
     },
     "metadata": {},
     "output_type": "display_data"
    },
    {
     "name": "stderr",
     "output_type": "stream",
     "text": [
      "/var/folders/49/g0lpzfvd69300kvmdpb070m40000gn/T/ipykernel_38387/556509763.py:114: RuntimeWarning: No bad channels to interpolate. Doing nothing...\n",
      "  RawEEGDataFile.interpolate_bads(verbose=False)\n"
     ]
    },
    {
     "name": "stdout",
     "output_type": "stream",
     "text": [
      "Label for Patient ID 'aaaaaaju': 1\n",
      "file ran\n"
     ]
    },
    {
     "data": {
      "text/plain": [
       "'/Volumes/SDCARD/v2.0.3/edf/train/aaaaaajv/s002_2004/02_tcp_le/aaaaaajv_s002_t000.edf'"
      ]
     },
     "metadata": {},
     "output_type": "display_data"
    },
    {
     "name": "stderr",
     "output_type": "stream",
     "text": [
      "/var/folders/49/g0lpzfvd69300kvmdpb070m40000gn/T/ipykernel_38387/556509763.py:114: RuntimeWarning: No bad channels to interpolate. Doing nothing...\n",
      "  RawEEGDataFile.interpolate_bads(verbose=False)\n"
     ]
    },
    {
     "name": "stdout",
     "output_type": "stream",
     "text": [
      "Label for Patient ID 'aaaaaajv': 1\n",
      "file ran\n"
     ]
    },
    {
     "data": {
      "text/plain": [
       "'/Volumes/SDCARD/v2.0.3/edf/train/aaaaaakm/s007_2003/01_tcp_ar/aaaaaakm_s007_t000.edf'"
      ]
     },
     "metadata": {},
     "output_type": "display_data"
    },
    {
     "name": "stdout",
     "output_type": "stream",
     "text": [
      "Label for Patient ID 'aaaaaakm': 1\n",
      "file ran\n"
     ]
    },
    {
     "name": "stderr",
     "output_type": "stream",
     "text": [
      "/var/folders/49/g0lpzfvd69300kvmdpb070m40000gn/T/ipykernel_38387/556509763.py:114: RuntimeWarning: No bad channels to interpolate. Doing nothing...\n",
      "  RawEEGDataFile.interpolate_bads(verbose=False)\n"
     ]
    },
    {
     "data": {
      "text/plain": [
       "'/Volumes/SDCARD/v2.0.3/edf/train/aaaaaakm/s007_2003/01_tcp_ar/aaaaaakm_s007_t001.edf'"
      ]
     },
     "metadata": {},
     "output_type": "display_data"
    },
    {
     "name": "stderr",
     "output_type": "stream",
     "text": [
      "/var/folders/49/g0lpzfvd69300kvmdpb070m40000gn/T/ipykernel_38387/556509763.py:114: RuntimeWarning: No bad channels to interpolate. Doing nothing...\n",
      "  RawEEGDataFile.interpolate_bads(verbose=False)\n"
     ]
    },
    {
     "name": "stdout",
     "output_type": "stream",
     "text": [
      "Label for Patient ID 'aaaaaakm': 1\n",
      "file ran\n"
     ]
    },
    {
     "data": {
      "text/plain": [
       "'/Volumes/SDCARD/v2.0.3/edf/train/aaaaaakm/s007_2003/01_tcp_ar/aaaaaakm_s007_t002.edf'"
      ]
     },
     "metadata": {},
     "output_type": "display_data"
    },
    {
     "name": "stderr",
     "output_type": "stream",
     "text": [
      "/var/folders/49/g0lpzfvd69300kvmdpb070m40000gn/T/ipykernel_38387/556509763.py:114: RuntimeWarning: No bad channels to interpolate. Doing nothing...\n",
      "  RawEEGDataFile.interpolate_bads(verbose=False)\n"
     ]
    },
    {
     "name": "stdout",
     "output_type": "stream",
     "text": [
      "Label for Patient ID 'aaaaaakm': 1\n",
      "file ran\n"
     ]
    },
    {
     "data": {
      "text/plain": [
       "'/Volumes/SDCARD/v2.0.3/edf/train/aaaaaakm/s007_2003/01_tcp_ar/aaaaaakm_s007_t003.edf'"
      ]
     },
     "metadata": {},
     "output_type": "display_data"
    },
    {
     "name": "stderr",
     "output_type": "stream",
     "text": [
      "/var/folders/49/g0lpzfvd69300kvmdpb070m40000gn/T/ipykernel_38387/556509763.py:114: RuntimeWarning: No bad channels to interpolate. Doing nothing...\n",
      "  RawEEGDataFile.interpolate_bads(verbose=False)\n"
     ]
    },
    {
     "name": "stdout",
     "output_type": "stream",
     "text": [
      "Label for Patient ID 'aaaaaakm': 1\n",
      "file ran\n"
     ]
    },
    {
     "data": {
      "text/plain": [
       "'/Volumes/SDCARD/v2.0.3/edf/train/aaaaaakm/s007_2003/01_tcp_ar/aaaaaakm_s007_t004.edf'"
      ]
     },
     "metadata": {},
     "output_type": "display_data"
    },
    {
     "name": "stdout",
     "output_type": "stream",
     "text": [
      "Label for Patient ID 'aaaaaakm': 1\n",
      "file ran\n"
     ]
    },
    {
     "name": "stderr",
     "output_type": "stream",
     "text": [
      "/var/folders/49/g0lpzfvd69300kvmdpb070m40000gn/T/ipykernel_38387/556509763.py:114: RuntimeWarning: No bad channels to interpolate. Doing nothing...\n",
      "  RawEEGDataFile.interpolate_bads(verbose=False)\n"
     ]
    },
    {
     "data": {
      "text/plain": [
       "'/Volumes/SDCARD/v2.0.3/edf/train/aaaaaakm/s007_2003/01_tcp_ar/aaaaaakm_s007_t005.edf'"
      ]
     },
     "metadata": {},
     "output_type": "display_data"
    },
    {
     "name": "stdout",
     "output_type": "stream",
     "text": [
      "Label for Patient ID 'aaaaaakm': 1\n",
      "file ran\n"
     ]
    },
    {
     "name": "stderr",
     "output_type": "stream",
     "text": [
      "/var/folders/49/g0lpzfvd69300kvmdpb070m40000gn/T/ipykernel_38387/556509763.py:114: RuntimeWarning: No bad channels to interpolate. Doing nothing...\n",
      "  RawEEGDataFile.interpolate_bads(verbose=False)\n"
     ]
    },
    {
     "data": {
      "text/plain": [
       "'/Volumes/SDCARD/v2.0.3/edf/train/aaaaaakm/s008_2003/01_tcp_ar/aaaaaakm_s008_t000.edf'"
      ]
     },
     "metadata": {},
     "output_type": "display_data"
    },
    {
     "name": "stderr",
     "output_type": "stream",
     "text": [
      "/var/folders/49/g0lpzfvd69300kvmdpb070m40000gn/T/ipykernel_38387/556509763.py:114: RuntimeWarning: No bad channels to interpolate. Doing nothing...\n",
      "  RawEEGDataFile.interpolate_bads(verbose=False)\n"
     ]
    },
    {
     "name": "stdout",
     "output_type": "stream",
     "text": [
      "Label for Patient ID 'aaaaaakm': 1\n",
      "file ran\n"
     ]
    },
    {
     "data": {
      "text/plain": [
       "'/Volumes/SDCARD/v2.0.3/edf/train/aaaaaakm/s008_2003/01_tcp_ar/aaaaaakm_s008_t001.edf'"
      ]
     },
     "metadata": {},
     "output_type": "display_data"
    },
    {
     "name": "stderr",
     "output_type": "stream",
     "text": [
      "/var/folders/49/g0lpzfvd69300kvmdpb070m40000gn/T/ipykernel_38387/556509763.py:114: RuntimeWarning: No bad channels to interpolate. Doing nothing...\n",
      "  RawEEGDataFile.interpolate_bads(verbose=False)\n"
     ]
    },
    {
     "name": "stdout",
     "output_type": "stream",
     "text": [
      "Label for Patient ID 'aaaaaakm': 1\n",
      "file ran\n"
     ]
    },
    {
     "data": {
      "text/plain": [
       "'/Volumes/SDCARD/v2.0.3/edf/train/aaaaaakm/s008_2003/01_tcp_ar/aaaaaakm_s008_t002.edf'"
      ]
     },
     "metadata": {},
     "output_type": "display_data"
    },
    {
     "name": "stderr",
     "output_type": "stream",
     "text": [
      "/var/folders/49/g0lpzfvd69300kvmdpb070m40000gn/T/ipykernel_38387/556509763.py:114: RuntimeWarning: No bad channels to interpolate. Doing nothing...\n",
      "  RawEEGDataFile.interpolate_bads(verbose=False)\n"
     ]
    },
    {
     "name": "stdout",
     "output_type": "stream",
     "text": [
      "Label for Patient ID 'aaaaaakm': 1\n",
      "file ran\n"
     ]
    },
    {
     "data": {
      "text/plain": [
       "'/Volumes/SDCARD/v2.0.3/edf/train/aaaaaakm/s008_2003/01_tcp_ar/aaaaaakm_s008_t003.edf'"
      ]
     },
     "metadata": {},
     "output_type": "display_data"
    },
    {
     "name": "stderr",
     "output_type": "stream",
     "text": [
      "/var/folders/49/g0lpzfvd69300kvmdpb070m40000gn/T/ipykernel_38387/556509763.py:114: RuntimeWarning: No bad channels to interpolate. Doing nothing...\n",
      "  RawEEGDataFile.interpolate_bads(verbose=False)\n"
     ]
    },
    {
     "name": "stdout",
     "output_type": "stream",
     "text": [
      "Label for Patient ID 'aaaaaakm': 1\n",
      "file ran\n"
     ]
    },
    {
     "data": {
      "text/plain": [
       "'/Volumes/SDCARD/v2.0.3/edf/train/aaaaaakm/s008_2003/01_tcp_ar/aaaaaakm_s008_t004.edf'"
      ]
     },
     "metadata": {},
     "output_type": "display_data"
    },
    {
     "name": "stderr",
     "output_type": "stream",
     "text": [
      "/var/folders/49/g0lpzfvd69300kvmdpb070m40000gn/T/ipykernel_38387/556509763.py:114: RuntimeWarning: No bad channels to interpolate. Doing nothing...\n",
      "  RawEEGDataFile.interpolate_bads(verbose=False)\n"
     ]
    },
    {
     "name": "stdout",
     "output_type": "stream",
     "text": [
      "Label for Patient ID 'aaaaaakm': 1\n",
      "file ran\n"
     ]
    },
    {
     "data": {
      "text/plain": [
       "'/Volumes/SDCARD/v2.0.3/edf/train/aaaaaakm/s008_2003/01_tcp_ar/aaaaaakm_s008_t005.edf'"
      ]
     },
     "metadata": {},
     "output_type": "display_data"
    },
    {
     "name": "stderr",
     "output_type": "stream",
     "text": [
      "/var/folders/49/g0lpzfvd69300kvmdpb070m40000gn/T/ipykernel_38387/556509763.py:114: RuntimeWarning: No bad channels to interpolate. Doing nothing...\n",
      "  RawEEGDataFile.interpolate_bads(verbose=False)\n"
     ]
    },
    {
     "name": "stdout",
     "output_type": "stream",
     "text": [
      "Label for Patient ID 'aaaaaakm': 1\n",
      "file ran\n"
     ]
    },
    {
     "data": {
      "text/plain": [
       "'/Volumes/SDCARD/v2.0.3/edf/train/aaaaaakv/s001_2003/02_tcp_le/aaaaaakv_s001_t000.edf'"
      ]
     },
     "metadata": {},
     "output_type": "display_data"
    },
    {
     "name": "stderr",
     "output_type": "stream",
     "text": [
      "/var/folders/49/g0lpzfvd69300kvmdpb070m40000gn/T/ipykernel_38387/556509763.py:114: RuntimeWarning: No bad channels to interpolate. Doing nothing...\n",
      "  RawEEGDataFile.interpolate_bads(verbose=False)\n"
     ]
    },
    {
     "name": "stdout",
     "output_type": "stream",
     "text": [
      "Label for Patient ID 'aaaaaakv': 1\n",
      "file ran\n"
     ]
    },
    {
     "data": {
      "text/plain": [
       "'/Volumes/SDCARD/v2.0.3/edf/train/aaaaaalb/s002_2004/02_tcp_le/aaaaaalb_s002_t001.edf'"
      ]
     },
     "metadata": {},
     "output_type": "display_data"
    },
    {
     "name": "stderr",
     "output_type": "stream",
     "text": [
      "/var/folders/49/g0lpzfvd69300kvmdpb070m40000gn/T/ipykernel_38387/556509763.py:114: RuntimeWarning: No bad channels to interpolate. Doing nothing...\n",
      "  RawEEGDataFile.interpolate_bads(verbose=False)\n"
     ]
    },
    {
     "name": "stdout",
     "output_type": "stream",
     "text": [
      "Label for Patient ID 'aaaaaalb': 1\n",
      "file ran\n"
     ]
    },
    {
     "data": {
      "text/plain": [
       "'/Volumes/SDCARD/v2.0.3/edf/train/aaaaaald/s001_2003/02_tcp_le/aaaaaald_s001_t000.edf'"
      ]
     },
     "metadata": {},
     "output_type": "display_data"
    },
    {
     "name": "stderr",
     "output_type": "stream",
     "text": [
      "/var/folders/49/g0lpzfvd69300kvmdpb070m40000gn/T/ipykernel_38387/556509763.py:114: RuntimeWarning: No bad channels to interpolate. Doing nothing...\n",
      "  RawEEGDataFile.interpolate_bads(verbose=False)\n"
     ]
    },
    {
     "name": "stdout",
     "output_type": "stream",
     "text": [
      "Label for Patient ID 'aaaaaald': 1\n",
      "file ran\n"
     ]
    },
    {
     "data": {
      "text/plain": [
       "'/Volumes/SDCARD/v2.0.3/edf/train/aaaaaalq/s001_2003/02_tcp_le/aaaaaalq_s001_t000.edf'"
      ]
     },
     "metadata": {},
     "output_type": "display_data"
    },
    {
     "name": "stderr",
     "output_type": "stream",
     "text": [
      "/var/folders/49/g0lpzfvd69300kvmdpb070m40000gn/T/ipykernel_38387/556509763.py:114: RuntimeWarning: No bad channels to interpolate. Doing nothing...\n",
      "  RawEEGDataFile.interpolate_bads(verbose=False)\n"
     ]
    },
    {
     "name": "stdout",
     "output_type": "stream",
     "text": [
      "Label for Patient ID 'aaaaaalq': 1\n",
      "file ran\n"
     ]
    },
    {
     "data": {
      "text/plain": [
       "'/Volumes/SDCARD/v2.0.3/edf/train/aaaaaalq/s002_2003/02_tcp_le/aaaaaalq_s002_t000.edf'"
      ]
     },
     "metadata": {},
     "output_type": "display_data"
    },
    {
     "name": "stdout",
     "output_type": "stream",
     "text": [
      "Label for Patient ID 'aaaaaalq': 1\n",
      "file ran\n"
     ]
    },
    {
     "name": "stderr",
     "output_type": "stream",
     "text": [
      "/var/folders/49/g0lpzfvd69300kvmdpb070m40000gn/T/ipykernel_38387/556509763.py:114: RuntimeWarning: No bad channels to interpolate. Doing nothing...\n",
      "  RawEEGDataFile.interpolate_bads(verbose=False)\n"
     ]
    },
    {
     "data": {
      "text/plain": [
       "'/Volumes/SDCARD/v2.0.3/edf/train/aaaaaalq/s002_2003/02_tcp_le/aaaaaalq_s002_t001.edf'"
      ]
     },
     "metadata": {},
     "output_type": "display_data"
    },
    {
     "name": "stderr",
     "output_type": "stream",
     "text": [
      "/var/folders/49/g0lpzfvd69300kvmdpb070m40000gn/T/ipykernel_38387/556509763.py:114: RuntimeWarning: No bad channels to interpolate. Doing nothing...\n",
      "  RawEEGDataFile.interpolate_bads(verbose=False)\n"
     ]
    },
    {
     "name": "stdout",
     "output_type": "stream",
     "text": [
      "Label for Patient ID 'aaaaaalq': 1\n",
      "file ran\n"
     ]
    },
    {
     "data": {
      "text/plain": [
       "'/Volumes/SDCARD/v2.0.3/edf/train/aaaaaalq/s002_2003/02_tcp_le/aaaaaalq_s002_t002.edf'"
      ]
     },
     "metadata": {},
     "output_type": "display_data"
    },
    {
     "name": "stdout",
     "output_type": "stream",
     "text": [
      "Label for Patient ID 'aaaaaalq': 1\n",
      "file ran\n"
     ]
    },
    {
     "name": "stderr",
     "output_type": "stream",
     "text": [
      "/var/folders/49/g0lpzfvd69300kvmdpb070m40000gn/T/ipykernel_38387/556509763.py:114: RuntimeWarning: No bad channels to interpolate. Doing nothing...\n",
      "  RawEEGDataFile.interpolate_bads(verbose=False)\n"
     ]
    },
    {
     "data": {
      "text/plain": [
       "'/Volumes/SDCARD/v2.0.3/edf/train/aaaaaalq/s002_2003/02_tcp_le/aaaaaalq_s002_t003.edf'"
      ]
     },
     "metadata": {},
     "output_type": "display_data"
    },
    {
     "name": "stdout",
     "output_type": "stream",
     "text": [
      "Label for Patient ID 'aaaaaalq': 1\n",
      "file ran\n"
     ]
    },
    {
     "name": "stderr",
     "output_type": "stream",
     "text": [
      "/var/folders/49/g0lpzfvd69300kvmdpb070m40000gn/T/ipykernel_38387/556509763.py:114: RuntimeWarning: No bad channels to interpolate. Doing nothing...\n",
      "  RawEEGDataFile.interpolate_bads(verbose=False)\n"
     ]
    },
    {
     "data": {
      "text/plain": [
       "'/Volumes/SDCARD/v2.0.3/edf/train/aaaaaalq/s002_2003/02_tcp_le/aaaaaalq_s002_t004.edf'"
      ]
     },
     "metadata": {},
     "output_type": "display_data"
    },
    {
     "name": "stdout",
     "output_type": "stream",
     "text": [
      "Label for Patient ID 'aaaaaalq': 1\n",
      "file ran\n"
     ]
    },
    {
     "name": "stderr",
     "output_type": "stream",
     "text": [
      "/var/folders/49/g0lpzfvd69300kvmdpb070m40000gn/T/ipykernel_38387/556509763.py:114: RuntimeWarning: No bad channels to interpolate. Doing nothing...\n",
      "  RawEEGDataFile.interpolate_bads(verbose=False)\n"
     ]
    },
    {
     "data": {
      "text/plain": [
       "'/Volumes/SDCARD/v2.0.3/edf/train/aaaaaalq/s002_2003/02_tcp_le/aaaaaalq_s002_t005.edf'"
      ]
     },
     "metadata": {},
     "output_type": "display_data"
    },
    {
     "name": "stdout",
     "output_type": "stream",
     "text": [
      "Label for Patient ID 'aaaaaalq': 1\n",
      "file ran\n"
     ]
    },
    {
     "name": "stderr",
     "output_type": "stream",
     "text": [
      "/var/folders/49/g0lpzfvd69300kvmdpb070m40000gn/T/ipykernel_38387/556509763.py:114: RuntimeWarning: No bad channels to interpolate. Doing nothing...\n",
      "  RawEEGDataFile.interpolate_bads(verbose=False)\n"
     ]
    },
    {
     "data": {
      "text/plain": [
       "'/Volumes/SDCARD/v2.0.3/edf/train/aaaaaalq/s002_2003/02_tcp_le/aaaaaalq_s002_t006.edf'"
      ]
     },
     "metadata": {},
     "output_type": "display_data"
    },
    {
     "name": "stderr",
     "output_type": "stream",
     "text": [
      "/var/folders/49/g0lpzfvd69300kvmdpb070m40000gn/T/ipykernel_38387/556509763.py:114: RuntimeWarning: No bad channels to interpolate. Doing nothing...\n",
      "  RawEEGDataFile.interpolate_bads(verbose=False)\n"
     ]
    },
    {
     "name": "stdout",
     "output_type": "stream",
     "text": [
      "Label for Patient ID 'aaaaaalq': 1\n",
      "file ran\n"
     ]
    },
    {
     "data": {
      "text/plain": [
       "'/Volumes/SDCARD/v2.0.3/edf/train/aaaaaamp/s003_2003/02_tcp_le/aaaaaamp_s003_t000.edf'"
      ]
     },
     "metadata": {},
     "output_type": "display_data"
    },
    {
     "name": "stderr",
     "output_type": "stream",
     "text": [
      "/var/folders/49/g0lpzfvd69300kvmdpb070m40000gn/T/ipykernel_38387/556509763.py:114: RuntimeWarning: No bad channels to interpolate. Doing nothing...\n",
      "  RawEEGDataFile.interpolate_bads(verbose=False)\n"
     ]
    },
    {
     "name": "stdout",
     "output_type": "stream",
     "text": [
      "Label for Patient ID 'aaaaaamp': 1\n",
      "file ran\n"
     ]
    },
    {
     "data": {
      "text/plain": [
       "'/Volumes/SDCARD/v2.0.3/edf/train/aaaaaapo/s002_2003/02_tcp_le/aaaaaapo_s002_t000.edf'"
      ]
     },
     "metadata": {},
     "output_type": "display_data"
    },
    {
     "name": "stderr",
     "output_type": "stream",
     "text": [
      "/var/folders/49/g0lpzfvd69300kvmdpb070m40000gn/T/ipykernel_38387/556509763.py:114: RuntimeWarning: No bad channels to interpolate. Doing nothing...\n",
      "  RawEEGDataFile.interpolate_bads(verbose=False)\n"
     ]
    },
    {
     "name": "stdout",
     "output_type": "stream",
     "text": [
      "Label for Patient ID 'aaaaaapo': 1\n",
      "file ran\n"
     ]
    },
    {
     "data": {
      "text/plain": [
       "'/Volumes/SDCARD/v2.0.3/edf/train/aaaaaaqc/s004_2003/02_tcp_le/aaaaaaqc_s004_t001.edf'"
      ]
     },
     "metadata": {},
     "output_type": "display_data"
    },
    {
     "name": "stderr",
     "output_type": "stream",
     "text": [
      "/var/folders/49/g0lpzfvd69300kvmdpb070m40000gn/T/ipykernel_38387/556509763.py:114: RuntimeWarning: No bad channels to interpolate. Doing nothing...\n",
      "  RawEEGDataFile.interpolate_bads(verbose=False)\n"
     ]
    },
    {
     "name": "stdout",
     "output_type": "stream",
     "text": [
      "Label for Patient ID 'aaaaaaqc': 1\n",
      "file ran\n"
     ]
    },
    {
     "data": {
      "text/plain": [
       "'/Volumes/SDCARD/v2.0.3/edf/train/aaaaaaqc/s005_2005/02_tcp_le/aaaaaaqc_s005_t000.edf'"
      ]
     },
     "metadata": {},
     "output_type": "display_data"
    },
    {
     "name": "stderr",
     "output_type": "stream",
     "text": [
      "/var/folders/49/g0lpzfvd69300kvmdpb070m40000gn/T/ipykernel_38387/556509763.py:114: RuntimeWarning: No bad channels to interpolate. Doing nothing...\n",
      "  RawEEGDataFile.interpolate_bads(verbose=False)\n"
     ]
    },
    {
     "name": "stdout",
     "output_type": "stream",
     "text": [
      "Label for Patient ID 'aaaaaaqc': 1\n",
      "file ran\n"
     ]
    },
    {
     "data": {
      "text/plain": [
       "'/Volumes/SDCARD/v2.0.3/edf/train/aaaaaaqc/s011_2009/02_tcp_le/aaaaaaqc_s011_t000.edf'"
      ]
     },
     "metadata": {},
     "output_type": "display_data"
    },
    {
     "name": "stderr",
     "output_type": "stream",
     "text": [
      "/var/folders/49/g0lpzfvd69300kvmdpb070m40000gn/T/ipykernel_38387/556509763.py:114: RuntimeWarning: No bad channels to interpolate. Doing nothing...\n",
      "  RawEEGDataFile.interpolate_bads(verbose=False)\n"
     ]
    },
    {
     "name": "stdout",
     "output_type": "stream",
     "text": [
      "Label for Patient ID 'aaaaaaqc': 1\n",
      "file ran\n"
     ]
    },
    {
     "data": {
      "text/plain": [
       "'/Volumes/SDCARD/v2.0.3/edf/train/aaaaaaql/s001_2003/02_tcp_le/aaaaaaql_s001_t000.edf'"
      ]
     },
     "metadata": {},
     "output_type": "display_data"
    },
    {
     "name": "stderr",
     "output_type": "stream",
     "text": [
      "/var/folders/49/g0lpzfvd69300kvmdpb070m40000gn/T/ipykernel_38387/556509763.py:114: RuntimeWarning: No bad channels to interpolate. Doing nothing...\n",
      "  RawEEGDataFile.interpolate_bads(verbose=False)\n"
     ]
    },
    {
     "name": "stdout",
     "output_type": "stream",
     "text": [
      "Label for Patient ID 'aaaaaaql': 1\n",
      "file ran\n"
     ]
    },
    {
     "data": {
      "text/plain": [
       "'/Volumes/SDCARD/v2.0.3/edf/train/aaaaaasf/s001_2003/02_tcp_le/aaaaaasf_s001_t000.edf'"
      ]
     },
     "metadata": {},
     "output_type": "display_data"
    },
    {
     "name": "stderr",
     "output_type": "stream",
     "text": [
      "/var/folders/49/g0lpzfvd69300kvmdpb070m40000gn/T/ipykernel_38387/556509763.py:114: RuntimeWarning: No bad channels to interpolate. Doing nothing...\n",
      "  RawEEGDataFile.interpolate_bads(verbose=False)\n"
     ]
    },
    {
     "name": "stdout",
     "output_type": "stream",
     "text": [
      "Label for Patient ID 'aaaaaasf': 1\n",
      "file ran\n"
     ]
    },
    {
     "data": {
      "text/plain": [
       "'/Volumes/SDCARD/v2.0.3/edf/train/aaaaaasf/s002_2003/02_tcp_le/aaaaaasf_s002_t000.edf'"
      ]
     },
     "metadata": {},
     "output_type": "display_data"
    },
    {
     "name": "stderr",
     "output_type": "stream",
     "text": [
      "/var/folders/49/g0lpzfvd69300kvmdpb070m40000gn/T/ipykernel_38387/556509763.py:114: RuntimeWarning: No bad channels to interpolate. Doing nothing...\n",
      "  RawEEGDataFile.interpolate_bads(verbose=False)\n"
     ]
    },
    {
     "name": "stdout",
     "output_type": "stream",
     "text": [
      "Label for Patient ID 'aaaaaasf': 1\n",
      "file ran\n"
     ]
    },
    {
     "data": {
      "text/plain": [
       "'/Volumes/SDCARD/v2.0.3/edf/train/aaaaaasy/s001_2003/02_tcp_le/aaaaaasy_s001_t001.edf'"
      ]
     },
     "metadata": {},
     "output_type": "display_data"
    },
    {
     "name": "stderr",
     "output_type": "stream",
     "text": [
      "/var/folders/49/g0lpzfvd69300kvmdpb070m40000gn/T/ipykernel_38387/556509763.py:114: RuntimeWarning: No bad channels to interpolate. Doing nothing...\n",
      "  RawEEGDataFile.interpolate_bads(verbose=False)\n"
     ]
    },
    {
     "name": "stdout",
     "output_type": "stream",
     "text": [
      "Label for Patient ID 'aaaaaasy': 1\n",
      "file ran\n"
     ]
    },
    {
     "data": {
      "text/plain": [
       "'/Volumes/SDCARD/v2.0.3/edf/train/aaaaaasy/s002_2003/02_tcp_le/aaaaaasy_s002_t000.edf'"
      ]
     },
     "metadata": {},
     "output_type": "display_data"
    },
    {
     "name": "stderr",
     "output_type": "stream",
     "text": [
      "/var/folders/49/g0lpzfvd69300kvmdpb070m40000gn/T/ipykernel_38387/556509763.py:114: RuntimeWarning: No bad channels to interpolate. Doing nothing...\n",
      "  RawEEGDataFile.interpolate_bads(verbose=False)\n"
     ]
    },
    {
     "name": "stdout",
     "output_type": "stream",
     "text": [
      "Label for Patient ID 'aaaaaasy': 1\n",
      "file ran\n"
     ]
    },
    {
     "data": {
      "text/plain": [
       "'/Volumes/SDCARD/v2.0.3/edf/train/aaaaaasy/s003_2003/01_tcp_ar/aaaaaasy_s003_t000.edf'"
      ]
     },
     "metadata": {},
     "output_type": "display_data"
    },
    {
     "name": "stdout",
     "output_type": "stream",
     "text": [
      "Label for Patient ID 'aaaaaasy': 1\n",
      "file ran\n"
     ]
    },
    {
     "name": "stderr",
     "output_type": "stream",
     "text": [
      "/var/folders/49/g0lpzfvd69300kvmdpb070m40000gn/T/ipykernel_38387/556509763.py:114: RuntimeWarning: No bad channels to interpolate. Doing nothing...\n",
      "  RawEEGDataFile.interpolate_bads(verbose=False)\n"
     ]
    },
    {
     "data": {
      "text/plain": [
       "'/Volumes/SDCARD/v2.0.3/edf/train/aaaaaasy/s003_2003/01_tcp_ar/aaaaaasy_s003_t001.edf'"
      ]
     },
     "metadata": {},
     "output_type": "display_data"
    },
    {
     "name": "stderr",
     "output_type": "stream",
     "text": [
      "/var/folders/49/g0lpzfvd69300kvmdpb070m40000gn/T/ipykernel_38387/556509763.py:114: RuntimeWarning: No bad channels to interpolate. Doing nothing...\n",
      "  RawEEGDataFile.interpolate_bads(verbose=False)\n"
     ]
    },
    {
     "name": "stdout",
     "output_type": "stream",
     "text": [
      "Label for Patient ID 'aaaaaasy': 1\n",
      "file ran\n"
     ]
    },
    {
     "data": {
      "text/plain": [
       "'/Volumes/SDCARD/v2.0.3/edf/train/aaaaaasy/s003_2003/01_tcp_ar/aaaaaasy_s003_t002.edf'"
      ]
     },
     "metadata": {},
     "output_type": "display_data"
    },
    {
     "name": "stderr",
     "output_type": "stream",
     "text": [
      "/var/folders/49/g0lpzfvd69300kvmdpb070m40000gn/T/ipykernel_38387/556509763.py:114: RuntimeWarning: No bad channels to interpolate. Doing nothing...\n",
      "  RawEEGDataFile.interpolate_bads(verbose=False)\n"
     ]
    },
    {
     "name": "stdout",
     "output_type": "stream",
     "text": [
      "Label for Patient ID 'aaaaaasy': 1\n",
      "file ran\n"
     ]
    },
    {
     "data": {
      "text/plain": [
       "'/Volumes/SDCARD/v2.0.3/edf/train/aaaaaasy/s003_2003/01_tcp_ar/aaaaaasy_s003_t003.edf'"
      ]
     },
     "metadata": {},
     "output_type": "display_data"
    },
    {
     "name": "stdout",
     "output_type": "stream",
     "text": [
      "Label for Patient ID 'aaaaaasy': 1\n",
      "file ran\n"
     ]
    },
    {
     "name": "stderr",
     "output_type": "stream",
     "text": [
      "/var/folders/49/g0lpzfvd69300kvmdpb070m40000gn/T/ipykernel_38387/556509763.py:114: RuntimeWarning: No bad channels to interpolate. Doing nothing...\n",
      "  RawEEGDataFile.interpolate_bads(verbose=False)\n"
     ]
    },
    {
     "data": {
      "text/plain": [
       "'/Volumes/SDCARD/v2.0.3/edf/train/aaaaaasy/s003_2003/01_tcp_ar/aaaaaasy_s003_t004.edf'"
      ]
     },
     "metadata": {},
     "output_type": "display_data"
    },
    {
     "name": "stderr",
     "output_type": "stream",
     "text": [
      "/var/folders/49/g0lpzfvd69300kvmdpb070m40000gn/T/ipykernel_38387/556509763.py:114: RuntimeWarning: No bad channels to interpolate. Doing nothing...\n",
      "  RawEEGDataFile.interpolate_bads(verbose=False)\n"
     ]
    },
    {
     "name": "stdout",
     "output_type": "stream",
     "text": [
      "Label for Patient ID 'aaaaaasy': 1\n",
      "file ran\n"
     ]
    },
    {
     "data": {
      "text/plain": [
       "'/Volumes/SDCARD/v2.0.3/edf/train/aaaaaasy/s003_2003/01_tcp_ar/aaaaaasy_s003_t005.edf'"
      ]
     },
     "metadata": {},
     "output_type": "display_data"
    },
    {
     "name": "stderr",
     "output_type": "stream",
     "text": [
      "/var/folders/49/g0lpzfvd69300kvmdpb070m40000gn/T/ipykernel_38387/556509763.py:114: RuntimeWarning: No bad channels to interpolate. Doing nothing...\n",
      "  RawEEGDataFile.interpolate_bads(verbose=False)\n"
     ]
    },
    {
     "name": "stdout",
     "output_type": "stream",
     "text": [
      "Label for Patient ID 'aaaaaasy': 1\n",
      "file ran\n"
     ]
    },
    {
     "data": {
      "text/plain": [
       "'/Volumes/SDCARD/v2.0.3/edf/train/aaaaaasy/s003_2003/01_tcp_ar/aaaaaasy_s003_t006.edf'"
      ]
     },
     "metadata": {},
     "output_type": "display_data"
    },
    {
     "name": "stdout",
     "output_type": "stream",
     "text": [
      "Label for Patient ID 'aaaaaasy': 1\n",
      "file ran\n"
     ]
    },
    {
     "name": "stderr",
     "output_type": "stream",
     "text": [
      "/var/folders/49/g0lpzfvd69300kvmdpb070m40000gn/T/ipykernel_38387/556509763.py:114: RuntimeWarning: No bad channels to interpolate. Doing nothing...\n",
      "  RawEEGDataFile.interpolate_bads(verbose=False)\n"
     ]
    },
    {
     "data": {
      "text/plain": [
       "'/Volumes/SDCARD/v2.0.3/edf/train/aaaaaasy/s003_2003/01_tcp_ar/aaaaaasy_s003_t007.edf'"
      ]
     },
     "metadata": {},
     "output_type": "display_data"
    },
    {
     "name": "stderr",
     "output_type": "stream",
     "text": [
      "/var/folders/49/g0lpzfvd69300kvmdpb070m40000gn/T/ipykernel_38387/556509763.py:114: RuntimeWarning: No bad channels to interpolate. Doing nothing...\n",
      "  RawEEGDataFile.interpolate_bads(verbose=False)\n"
     ]
    },
    {
     "name": "stdout",
     "output_type": "stream",
     "text": [
      "Label for Patient ID 'aaaaaasy': 1\n",
      "file ran\n"
     ]
    },
    {
     "data": {
      "text/plain": [
       "'/Volumes/SDCARD/v2.0.3/edf/train/aaaaaasy/s003_2003/01_tcp_ar/aaaaaasy_s003_t008.edf'"
      ]
     },
     "metadata": {},
     "output_type": "display_data"
    },
    {
     "name": "stdout",
     "output_type": "stream",
     "text": [
      "Label for Patient ID 'aaaaaasy': 1\n",
      "file ran\n"
     ]
    },
    {
     "name": "stderr",
     "output_type": "stream",
     "text": [
      "/var/folders/49/g0lpzfvd69300kvmdpb070m40000gn/T/ipykernel_38387/556509763.py:114: RuntimeWarning: No bad channels to interpolate. Doing nothing...\n",
      "  RawEEGDataFile.interpolate_bads(verbose=False)\n"
     ]
    },
    {
     "data": {
      "text/plain": [
       "'/Volumes/SDCARD/v2.0.3/edf/train/aaaaaasy/s003_2003/01_tcp_ar/aaaaaasy_s003_t009.edf'"
      ]
     },
     "metadata": {},
     "output_type": "display_data"
    },
    {
     "name": "stderr",
     "output_type": "stream",
     "text": [
      "/var/folders/49/g0lpzfvd69300kvmdpb070m40000gn/T/ipykernel_38387/556509763.py:114: RuntimeWarning: No bad channels to interpolate. Doing nothing...\n",
      "  RawEEGDataFile.interpolate_bads(verbose=False)\n"
     ]
    },
    {
     "name": "stdout",
     "output_type": "stream",
     "text": [
      "Label for Patient ID 'aaaaaasy': 1\n",
      "file ran\n"
     ]
    },
    {
     "data": {
      "text/plain": [
       "'/Volumes/SDCARD/v2.0.3/edf/train/aaaaaasy/s003_2003/01_tcp_ar/aaaaaasy_s003_t010.edf'"
      ]
     },
     "metadata": {},
     "output_type": "display_data"
    },
    {
     "name": "stderr",
     "output_type": "stream",
     "text": [
      "/var/folders/49/g0lpzfvd69300kvmdpb070m40000gn/T/ipykernel_38387/556509763.py:114: RuntimeWarning: No bad channels to interpolate. Doing nothing...\n",
      "  RawEEGDataFile.interpolate_bads(verbose=False)\n"
     ]
    },
    {
     "name": "stdout",
     "output_type": "stream",
     "text": [
      "Label for Patient ID 'aaaaaasy': 1\n",
      "file ran\n"
     ]
    },
    {
     "data": {
      "text/plain": [
       "'/Volumes/SDCARD/v2.0.3/edf/train/aaaaaasy/s003_2003/01_tcp_ar/aaaaaasy_s003_t011.edf'"
      ]
     },
     "metadata": {},
     "output_type": "display_data"
    },
    {
     "name": "stdout",
     "output_type": "stream",
     "text": [
      "Label for Patient ID 'aaaaaasy': 1\n",
      "file ran\n"
     ]
    },
    {
     "name": "stderr",
     "output_type": "stream",
     "text": [
      "/var/folders/49/g0lpzfvd69300kvmdpb070m40000gn/T/ipykernel_38387/556509763.py:114: RuntimeWarning: No bad channels to interpolate. Doing nothing...\n",
      "  RawEEGDataFile.interpolate_bads(verbose=False)\n"
     ]
    },
    {
     "data": {
      "text/plain": [
       "'/Volumes/SDCARD/v2.0.3/edf/train/aaaaaasy/s003_2003/01_tcp_ar/aaaaaasy_s003_t012.edf'"
      ]
     },
     "metadata": {},
     "output_type": "display_data"
    },
    {
     "name": "stdout",
     "output_type": "stream",
     "text": [
      "Label for Patient ID 'aaaaaasy': 1\n",
      "file ran\n"
     ]
    },
    {
     "name": "stderr",
     "output_type": "stream",
     "text": [
      "/var/folders/49/g0lpzfvd69300kvmdpb070m40000gn/T/ipykernel_38387/556509763.py:114: RuntimeWarning: No bad channels to interpolate. Doing nothing...\n",
      "  RawEEGDataFile.interpolate_bads(verbose=False)\n"
     ]
    },
    {
     "data": {
      "text/plain": [
       "'/Volumes/SDCARD/v2.0.3/edf/train/aaaaaasy/s003_2003/01_tcp_ar/aaaaaasy_s003_t013.edf'"
      ]
     },
     "metadata": {},
     "output_type": "display_data"
    },
    {
     "name": "stderr",
     "output_type": "stream",
     "text": [
      "/var/folders/49/g0lpzfvd69300kvmdpb070m40000gn/T/ipykernel_38387/556509763.py:114: RuntimeWarning: No bad channels to interpolate. Doing nothing...\n",
      "  RawEEGDataFile.interpolate_bads(verbose=False)\n"
     ]
    },
    {
     "name": "stdout",
     "output_type": "stream",
     "text": [
      "Label for Patient ID 'aaaaaasy': 1\n",
      "file ran\n"
     ]
    },
    {
     "data": {
      "text/plain": [
       "'/Volumes/SDCARD/v2.0.3/edf/train/aaaaaasy/s003_2003/01_tcp_ar/aaaaaasy_s003_t014.edf'"
      ]
     },
     "metadata": {},
     "output_type": "display_data"
    },
    {
     "name": "stderr",
     "output_type": "stream",
     "text": [
      "/var/folders/49/g0lpzfvd69300kvmdpb070m40000gn/T/ipykernel_38387/556509763.py:114: RuntimeWarning: No bad channels to interpolate. Doing nothing...\n",
      "  RawEEGDataFile.interpolate_bads(verbose=False)\n"
     ]
    },
    {
     "name": "stdout",
     "output_type": "stream",
     "text": [
      "Label for Patient ID 'aaaaaasy': 1\n",
      "file ran\n"
     ]
    },
    {
     "data": {
      "text/plain": [
       "'/Volumes/SDCARD/v2.0.3/edf/train/aaaaaasy/s003_2003/01_tcp_ar/aaaaaasy_s003_t015.edf'"
      ]
     },
     "metadata": {},
     "output_type": "display_data"
    },
    {
     "name": "stdout",
     "output_type": "stream",
     "text": [
      "Label for Patient ID 'aaaaaasy': 1\n",
      "file ran\n"
     ]
    },
    {
     "name": "stderr",
     "output_type": "stream",
     "text": [
      "/var/folders/49/g0lpzfvd69300kvmdpb070m40000gn/T/ipykernel_38387/556509763.py:114: RuntimeWarning: No bad channels to interpolate. Doing nothing...\n",
      "  RawEEGDataFile.interpolate_bads(verbose=False)\n"
     ]
    },
    {
     "data": {
      "text/plain": [
       "'/Volumes/SDCARD/v2.0.3/edf/train/aaaaaasy/s004_2003/02_tcp_le/aaaaaasy_s004_t000.edf'"
      ]
     },
     "metadata": {},
     "output_type": "display_data"
    },
    {
     "name": "stderr",
     "output_type": "stream",
     "text": [
      "/var/folders/49/g0lpzfvd69300kvmdpb070m40000gn/T/ipykernel_38387/556509763.py:114: RuntimeWarning: No bad channels to interpolate. Doing nothing...\n",
      "  RawEEGDataFile.interpolate_bads(verbose=False)\n"
     ]
    },
    {
     "name": "stdout",
     "output_type": "stream",
     "text": [
      "Label for Patient ID 'aaaaaasy': 1\n",
      "file ran\n"
     ]
    },
    {
     "data": {
      "text/plain": [
       "'/Volumes/SDCARD/v2.0.3/edf/train/aaaaaasy/s004_2003/02_tcp_le/aaaaaasy_s004_t001.edf'"
      ]
     },
     "metadata": {},
     "output_type": "display_data"
    },
    {
     "name": "stderr",
     "output_type": "stream",
     "text": [
      "/var/folders/49/g0lpzfvd69300kvmdpb070m40000gn/T/ipykernel_38387/556509763.py:114: RuntimeWarning: No bad channels to interpolate. Doing nothing...\n",
      "  RawEEGDataFile.interpolate_bads(verbose=False)\n"
     ]
    },
    {
     "name": "stdout",
     "output_type": "stream",
     "text": [
      "Label for Patient ID 'aaaaaasy': 1\n",
      "file ran\n"
     ]
    },
    {
     "data": {
      "text/plain": [
       "'/Volumes/SDCARD/v2.0.3/edf/train/aaaaaasy/s004_2003/02_tcp_le/aaaaaasy_s004_t002.edf'"
      ]
     },
     "metadata": {},
     "output_type": "display_data"
    },
    {
     "name": "stderr",
     "output_type": "stream",
     "text": [
      "/var/folders/49/g0lpzfvd69300kvmdpb070m40000gn/T/ipykernel_38387/556509763.py:114: RuntimeWarning: No bad channels to interpolate. Doing nothing...\n",
      "  RawEEGDataFile.interpolate_bads(verbose=False)\n"
     ]
    },
    {
     "name": "stdout",
     "output_type": "stream",
     "text": [
      "Label for Patient ID 'aaaaaasy': 1\n",
      "file ran\n"
     ]
    },
    {
     "data": {
      "text/plain": [
       "'/Volumes/SDCARD/v2.0.3/edf/train/aaaaaasy/s004_2003/02_tcp_le/aaaaaasy_s004_t003.edf'"
      ]
     },
     "metadata": {},
     "output_type": "display_data"
    },
    {
     "name": "stdout",
     "output_type": "stream",
     "text": [
      "Label for Patient ID 'aaaaaasy': 1\n",
      "file ran\n"
     ]
    },
    {
     "name": "stderr",
     "output_type": "stream",
     "text": [
      "/var/folders/49/g0lpzfvd69300kvmdpb070m40000gn/T/ipykernel_38387/556509763.py:114: RuntimeWarning: No bad channels to interpolate. Doing nothing...\n",
      "  RawEEGDataFile.interpolate_bads(verbose=False)\n"
     ]
    },
    {
     "data": {
      "text/plain": [
       "'/Volumes/SDCARD/v2.0.3/edf/train/aaaaaasy/s005_2003/02_tcp_le/aaaaaasy_s005_t000.edf'"
      ]
     },
     "metadata": {},
     "output_type": "display_data"
    },
    {
     "name": "stdout",
     "output_type": "stream",
     "text": [
      "Label for Patient ID 'aaaaaasy': 1\n",
      "file ran\n"
     ]
    },
    {
     "name": "stderr",
     "output_type": "stream",
     "text": [
      "/var/folders/49/g0lpzfvd69300kvmdpb070m40000gn/T/ipykernel_38387/556509763.py:114: RuntimeWarning: No bad channels to interpolate. Doing nothing...\n",
      "  RawEEGDataFile.interpolate_bads(verbose=False)\n"
     ]
    },
    {
     "data": {
      "text/plain": [
       "'/Volumes/SDCARD/v2.0.3/edf/train/aaaaaasy/s005_2003/02_tcp_le/aaaaaasy_s005_t001.edf'"
      ]
     },
     "metadata": {},
     "output_type": "display_data"
    },
    {
     "name": "stdout",
     "output_type": "stream",
     "text": [
      "Label for Patient ID 'aaaaaasy': 1\n",
      "file ran\n"
     ]
    },
    {
     "name": "stderr",
     "output_type": "stream",
     "text": [
      "/var/folders/49/g0lpzfvd69300kvmdpb070m40000gn/T/ipykernel_38387/556509763.py:114: RuntimeWarning: No bad channels to interpolate. Doing nothing...\n",
      "  RawEEGDataFile.interpolate_bads(verbose=False)\n"
     ]
    },
    {
     "data": {
      "text/plain": [
       "'/Volumes/SDCARD/v2.0.3/edf/train/aaaaaasy/s005_2003/02_tcp_le/aaaaaasy_s005_t002.edf'"
      ]
     },
     "metadata": {},
     "output_type": "display_data"
    },
    {
     "name": "stderr",
     "output_type": "stream",
     "text": [
      "/var/folders/49/g0lpzfvd69300kvmdpb070m40000gn/T/ipykernel_38387/556509763.py:114: RuntimeWarning: No bad channels to interpolate. Doing nothing...\n",
      "  RawEEGDataFile.interpolate_bads(verbose=False)\n"
     ]
    },
    {
     "name": "stdout",
     "output_type": "stream",
     "text": [
      "Label for Patient ID 'aaaaaasy': 1\n",
      "file ran\n"
     ]
    },
    {
     "data": {
      "text/plain": [
       "'/Volumes/SDCARD/v2.0.3/edf/train/aaaaaasy/s005_2003/02_tcp_le/aaaaaasy_s005_t003.edf'"
      ]
     },
     "metadata": {},
     "output_type": "display_data"
    },
    {
     "name": "stdout",
     "output_type": "stream",
     "text": [
      "Label for Patient ID 'aaaaaasy': 1\n",
      "file ran\n"
     ]
    },
    {
     "name": "stderr",
     "output_type": "stream",
     "text": [
      "/var/folders/49/g0lpzfvd69300kvmdpb070m40000gn/T/ipykernel_38387/556509763.py:114: RuntimeWarning: No bad channels to interpolate. Doing nothing...\n",
      "  RawEEGDataFile.interpolate_bads(verbose=False)\n"
     ]
    },
    {
     "data": {
      "text/plain": [
       "'/Volumes/SDCARD/v2.0.3/edf/train/aaaaaasy/s005_2003/02_tcp_le/aaaaaasy_s005_t004.edf'"
      ]
     },
     "metadata": {},
     "output_type": "display_data"
    },
    {
     "name": "stderr",
     "output_type": "stream",
     "text": [
      "/var/folders/49/g0lpzfvd69300kvmdpb070m40000gn/T/ipykernel_38387/556509763.py:114: RuntimeWarning: No bad channels to interpolate. Doing nothing...\n",
      "  RawEEGDataFile.interpolate_bads(verbose=False)\n"
     ]
    },
    {
     "name": "stdout",
     "output_type": "stream",
     "text": [
      "Label for Patient ID 'aaaaaasy': 1\n",
      "file ran\n"
     ]
    },
    {
     "data": {
      "text/plain": [
       "'/Volumes/SDCARD/v2.0.3/edf/train/aaaaaasy/s005_2003/02_tcp_le/aaaaaasy_s005_t005.edf'"
      ]
     },
     "metadata": {},
     "output_type": "display_data"
    },
    {
     "name": "stderr",
     "output_type": "stream",
     "text": [
      "/var/folders/49/g0lpzfvd69300kvmdpb070m40000gn/T/ipykernel_38387/556509763.py:114: RuntimeWarning: No bad channels to interpolate. Doing nothing...\n",
      "  RawEEGDataFile.interpolate_bads(verbose=False)\n"
     ]
    },
    {
     "name": "stdout",
     "output_type": "stream",
     "text": [
      "Label for Patient ID 'aaaaaasy': 1\n",
      "file ran\n"
     ]
    },
    {
     "data": {
      "text/plain": [
       "'/Volumes/SDCARD/v2.0.3/edf/train/aaaaaasy/s005_2003/02_tcp_le/aaaaaasy_s005_t006.edf'"
      ]
     },
     "metadata": {},
     "output_type": "display_data"
    },
    {
     "name": "stderr",
     "output_type": "stream",
     "text": [
      "/var/folders/49/g0lpzfvd69300kvmdpb070m40000gn/T/ipykernel_38387/556509763.py:114: RuntimeWarning: No bad channels to interpolate. Doing nothing...\n",
      "  RawEEGDataFile.interpolate_bads(verbose=False)\n"
     ]
    },
    {
     "name": "stdout",
     "output_type": "stream",
     "text": [
      "Label for Patient ID 'aaaaaasy': 1\n",
      "file ran\n"
     ]
    },
    {
     "data": {
      "text/plain": [
       "'/Volumes/SDCARD/v2.0.3/edf/train/aaaaaatf/s001_2003/02_tcp_le/aaaaaatf_s001_t000.edf'"
      ]
     },
     "metadata": {},
     "output_type": "display_data"
    },
    {
     "name": "stdout",
     "output_type": "stream",
     "text": [
      "Label for Patient ID 'aaaaaatf': 1\n",
      "file ran\n"
     ]
    },
    {
     "name": "stderr",
     "output_type": "stream",
     "text": [
      "/var/folders/49/g0lpzfvd69300kvmdpb070m40000gn/T/ipykernel_38387/556509763.py:114: RuntimeWarning: No bad channels to interpolate. Doing nothing...\n",
      "  RawEEGDataFile.interpolate_bads(verbose=False)\n"
     ]
    },
    {
     "data": {
      "text/plain": [
       "'/Volumes/SDCARD/v2.0.3/edf/train/aaaaaatf/s001_2003/02_tcp_le/aaaaaatf_s001_t001.edf'"
      ]
     },
     "metadata": {},
     "output_type": "display_data"
    },
    {
     "name": "stderr",
     "output_type": "stream",
     "text": [
      "/var/folders/49/g0lpzfvd69300kvmdpb070m40000gn/T/ipykernel_38387/556509763.py:114: RuntimeWarning: No bad channels to interpolate. Doing nothing...\n",
      "  RawEEGDataFile.interpolate_bads(verbose=False)\n"
     ]
    },
    {
     "name": "stdout",
     "output_type": "stream",
     "text": [
      "Label for Patient ID 'aaaaaatf': 1\n",
      "file ran\n"
     ]
    },
    {
     "data": {
      "text/plain": [
       "'/Volumes/SDCARD/v2.0.3/edf/train/aaaaaatf/s001_2003/02_tcp_le/aaaaaatf_s001_t002.edf'"
      ]
     },
     "metadata": {},
     "output_type": "display_data"
    },
    {
     "name": "stdout",
     "output_type": "stream",
     "text": [
      "Label for Patient ID 'aaaaaatf': 1\n",
      "file ran\n"
     ]
    },
    {
     "name": "stderr",
     "output_type": "stream",
     "text": [
      "/var/folders/49/g0lpzfvd69300kvmdpb070m40000gn/T/ipykernel_38387/556509763.py:114: RuntimeWarning: No bad channels to interpolate. Doing nothing...\n",
      "  RawEEGDataFile.interpolate_bads(verbose=False)\n"
     ]
    },
    {
     "data": {
      "text/plain": [
       "'/Volumes/SDCARD/v2.0.3/edf/train/aaaaaatf/s001_2003/02_tcp_le/aaaaaatf_s001_t003.edf'"
      ]
     },
     "metadata": {},
     "output_type": "display_data"
    },
    {
     "name": "stderr",
     "output_type": "stream",
     "text": [
      "/var/folders/49/g0lpzfvd69300kvmdpb070m40000gn/T/ipykernel_38387/556509763.py:114: RuntimeWarning: No bad channels to interpolate. Doing nothing...\n",
      "  RawEEGDataFile.interpolate_bads(verbose=False)\n"
     ]
    },
    {
     "name": "stdout",
     "output_type": "stream",
     "text": [
      "Label for Patient ID 'aaaaaatf': 1\n",
      "file ran\n"
     ]
    },
    {
     "data": {
      "text/plain": [
       "'/Volumes/SDCARD/v2.0.3/edf/train/aaaaaatf/s001_2003/02_tcp_le/aaaaaatf_s001_t004.edf'"
      ]
     },
     "metadata": {},
     "output_type": "display_data"
    },
    {
     "name": "stdout",
     "output_type": "stream",
     "text": [
      "Label for Patient ID 'aaaaaatf': 1\n",
      "file ran\n"
     ]
    },
    {
     "name": "stderr",
     "output_type": "stream",
     "text": [
      "/var/folders/49/g0lpzfvd69300kvmdpb070m40000gn/T/ipykernel_38387/556509763.py:114: RuntimeWarning: No bad channels to interpolate. Doing nothing...\n",
      "  RawEEGDataFile.interpolate_bads(verbose=False)\n"
     ]
    },
    {
     "data": {
      "text/plain": [
       "'/Volumes/SDCARD/v2.0.3/edf/train/aaaaaatf/s001_2003/02_tcp_le/aaaaaatf_s001_t005.edf'"
      ]
     },
     "metadata": {},
     "output_type": "display_data"
    },
    {
     "name": "stderr",
     "output_type": "stream",
     "text": [
      "/var/folders/49/g0lpzfvd69300kvmdpb070m40000gn/T/ipykernel_38387/556509763.py:114: RuntimeWarning: No bad channels to interpolate. Doing nothing...\n",
      "  RawEEGDataFile.interpolate_bads(verbose=False)\n"
     ]
    },
    {
     "name": "stdout",
     "output_type": "stream",
     "text": [
      "Label for Patient ID 'aaaaaatf': 1\n",
      "file ran\n"
     ]
    },
    {
     "data": {
      "text/plain": [
       "'/Volumes/SDCARD/v2.0.3/edf/train/aaaaaatf/s001_2003/02_tcp_le/aaaaaatf_s001_t006.edf'"
      ]
     },
     "metadata": {},
     "output_type": "display_data"
    },
    {
     "name": "stdout",
     "output_type": "stream",
     "text": [
      "Label for Patient ID 'aaaaaatf': 1\n",
      "file ran\n"
     ]
    },
    {
     "name": "stderr",
     "output_type": "stream",
     "text": [
      "/var/folders/49/g0lpzfvd69300kvmdpb070m40000gn/T/ipykernel_38387/556509763.py:114: RuntimeWarning: No bad channels to interpolate. Doing nothing...\n",
      "  RawEEGDataFile.interpolate_bads(verbose=False)\n"
     ]
    },
    {
     "data": {
      "text/plain": [
       "'/Volumes/SDCARD/v2.0.3/edf/train/aaaaaatf/s002_2003/02_tcp_le/aaaaaatf_s002_t001.edf'"
      ]
     },
     "metadata": {},
     "output_type": "display_data"
    },
    {
     "name": "stderr",
     "output_type": "stream",
     "text": [
      "/var/folders/49/g0lpzfvd69300kvmdpb070m40000gn/T/ipykernel_38387/556509763.py:114: RuntimeWarning: No bad channels to interpolate. Doing nothing...\n",
      "  RawEEGDataFile.interpolate_bads(verbose=False)\n"
     ]
    },
    {
     "name": "stdout",
     "output_type": "stream",
     "text": [
      "Label for Patient ID 'aaaaaatf': 1\n",
      "file ran\n"
     ]
    },
    {
     "data": {
      "text/plain": [
       "'/Volumes/SDCARD/v2.0.3/edf/train/aaaaaatf/s002_2003/02_tcp_le/aaaaaatf_s002_t002.edf'"
      ]
     },
     "metadata": {},
     "output_type": "display_data"
    },
    {
     "name": "stderr",
     "output_type": "stream",
     "text": [
      "/var/folders/49/g0lpzfvd69300kvmdpb070m40000gn/T/ipykernel_38387/556509763.py:114: RuntimeWarning: No bad channels to interpolate. Doing nothing...\n",
      "  RawEEGDataFile.interpolate_bads(verbose=False)\n"
     ]
    },
    {
     "name": "stdout",
     "output_type": "stream",
     "text": [
      "Label for Patient ID 'aaaaaatf': 1\n",
      "file ran\n"
     ]
    },
    {
     "data": {
      "text/plain": [
       "'/Volumes/SDCARD/v2.0.3/edf/train/aaaaaati/s003_2003/02_tcp_le/aaaaaati_s003_t000.edf'"
      ]
     },
     "metadata": {},
     "output_type": "display_data"
    },
    {
     "name": "stderr",
     "output_type": "stream",
     "text": [
      "/var/folders/49/g0lpzfvd69300kvmdpb070m40000gn/T/ipykernel_38387/556509763.py:114: RuntimeWarning: No bad channels to interpolate. Doing nothing...\n",
      "  RawEEGDataFile.interpolate_bads(verbose=False)\n"
     ]
    },
    {
     "name": "stdout",
     "output_type": "stream",
     "text": [
      "Label for Patient ID 'aaaaaati': 1\n",
      "file ran\n"
     ]
    },
    {
     "data": {
      "text/plain": [
       "'/Volumes/SDCARD/v2.0.3/edf/train/aaaaaaug/s001_2003/02_tcp_le/aaaaaaug_s001_t000.edf'"
      ]
     },
     "metadata": {},
     "output_type": "display_data"
    },
    {
     "name": "stderr",
     "output_type": "stream",
     "text": [
      "/var/folders/49/g0lpzfvd69300kvmdpb070m40000gn/T/ipykernel_38387/556509763.py:114: RuntimeWarning: No bad channels to interpolate. Doing nothing...\n",
      "  RawEEGDataFile.interpolate_bads(verbose=False)\n"
     ]
    },
    {
     "name": "stdout",
     "output_type": "stream",
     "text": [
      "Label for Patient ID 'aaaaaaug': 1\n",
      "file ran\n"
     ]
    },
    {
     "data": {
      "text/plain": [
       "'/Volumes/SDCARD/v2.0.3/edf/train/aaaaaaug/s002_2003/02_tcp_le/aaaaaaug_s002_t000.edf'"
      ]
     },
     "metadata": {},
     "output_type": "display_data"
    },
    {
     "name": "stdout",
     "output_type": "stream",
     "text": [
      "Label for Patient ID 'aaaaaaug': 1\n",
      "file ran\n"
     ]
    },
    {
     "name": "stderr",
     "output_type": "stream",
     "text": [
      "/var/folders/49/g0lpzfvd69300kvmdpb070m40000gn/T/ipykernel_38387/556509763.py:114: RuntimeWarning: No bad channels to interpolate. Doing nothing...\n",
      "  RawEEGDataFile.interpolate_bads(verbose=False)\n"
     ]
    },
    {
     "data": {
      "text/plain": [
       "'/Volumes/SDCARD/v2.0.3/edf/train/aaaaaaug/s002_2003/02_tcp_le/aaaaaaug_s002_t001.edf'"
      ]
     },
     "metadata": {},
     "output_type": "display_data"
    },
    {
     "name": "stdout",
     "output_type": "stream",
     "text": [
      "Label for Patient ID 'aaaaaaug': 1\n",
      "file ran\n"
     ]
    },
    {
     "name": "stderr",
     "output_type": "stream",
     "text": [
      "/var/folders/49/g0lpzfvd69300kvmdpb070m40000gn/T/ipykernel_38387/556509763.py:114: RuntimeWarning: No bad channels to interpolate. Doing nothing...\n",
      "  RawEEGDataFile.interpolate_bads(verbose=False)\n"
     ]
    },
    {
     "data": {
      "text/plain": [
       "'/Volumes/SDCARD/v2.0.3/edf/train/aaaaaaug/s002_2003/02_tcp_le/aaaaaaug_s002_t002.edf'"
      ]
     },
     "metadata": {},
     "output_type": "display_data"
    },
    {
     "name": "stderr",
     "output_type": "stream",
     "text": [
      "/var/folders/49/g0lpzfvd69300kvmdpb070m40000gn/T/ipykernel_38387/556509763.py:114: RuntimeWarning: No bad channels to interpolate. Doing nothing...\n",
      "  RawEEGDataFile.interpolate_bads(verbose=False)\n"
     ]
    },
    {
     "name": "stdout",
     "output_type": "stream",
     "text": [
      "Label for Patient ID 'aaaaaaug': 1\n",
      "file ran\n"
     ]
    },
    {
     "data": {
      "text/plain": [
       "'/Volumes/SDCARD/v2.0.3/edf/train/aaaaaaug/s002_2003/02_tcp_le/aaaaaaug_s002_t003.edf'"
      ]
     },
     "metadata": {},
     "output_type": "display_data"
    },
    {
     "name": "stderr",
     "output_type": "stream",
     "text": [
      "/var/folders/49/g0lpzfvd69300kvmdpb070m40000gn/T/ipykernel_38387/556509763.py:114: RuntimeWarning: No bad channels to interpolate. Doing nothing...\n",
      "  RawEEGDataFile.interpolate_bads(verbose=False)\n"
     ]
    },
    {
     "name": "stdout",
     "output_type": "stream",
     "text": [
      "Label for Patient ID 'aaaaaaug': 1\n",
      "file ran\n"
     ]
    },
    {
     "data": {
      "text/plain": [
       "'/Volumes/SDCARD/v2.0.3/edf/train/aaaaaaug/s002_2003/02_tcp_le/aaaaaaug_s002_t004.edf'"
      ]
     },
     "metadata": {},
     "output_type": "display_data"
    },
    {
     "name": "stdout",
     "output_type": "stream",
     "text": [
      "Label for Patient ID 'aaaaaaug': 1\n",
      "file ran\n"
     ]
    },
    {
     "name": "stderr",
     "output_type": "stream",
     "text": [
      "/var/folders/49/g0lpzfvd69300kvmdpb070m40000gn/T/ipykernel_38387/556509763.py:114: RuntimeWarning: No bad channels to interpolate. Doing nothing...\n",
      "  RawEEGDataFile.interpolate_bads(verbose=False)\n"
     ]
    },
    {
     "data": {
      "text/plain": [
       "'/Volumes/SDCARD/v2.0.3/edf/train/aaaaaaug/s002_2003/02_tcp_le/aaaaaaug_s002_t005.edf'"
      ]
     },
     "metadata": {},
     "output_type": "display_data"
    },
    {
     "name": "stdout",
     "output_type": "stream",
     "text": [
      "Label for Patient ID 'aaaaaaug': 1\n",
      "file ran\n"
     ]
    },
    {
     "name": "stderr",
     "output_type": "stream",
     "text": [
      "/var/folders/49/g0lpzfvd69300kvmdpb070m40000gn/T/ipykernel_38387/556509763.py:114: RuntimeWarning: No bad channels to interpolate. Doing nothing...\n",
      "  RawEEGDataFile.interpolate_bads(verbose=False)\n"
     ]
    },
    {
     "data": {
      "text/plain": [
       "'/Volumes/SDCARD/v2.0.3/edf/train/aaaaaaug/s002_2003/02_tcp_le/aaaaaaug_s002_t006.edf'"
      ]
     },
     "metadata": {},
     "output_type": "display_data"
    },
    {
     "name": "stderr",
     "output_type": "stream",
     "text": [
      "/var/folders/49/g0lpzfvd69300kvmdpb070m40000gn/T/ipykernel_38387/556509763.py:114: RuntimeWarning: No bad channels to interpolate. Doing nothing...\n",
      "  RawEEGDataFile.interpolate_bads(verbose=False)\n"
     ]
    },
    {
     "name": "stdout",
     "output_type": "stream",
     "text": [
      "Label for Patient ID 'aaaaaaug': 1\n",
      "file ran\n"
     ]
    },
    {
     "data": {
      "text/plain": [
       "'/Volumes/SDCARD/v2.0.3/edf/train/aaaaaaug/s002_2003/02_tcp_le/aaaaaaug_s002_t007.edf'"
      ]
     },
     "metadata": {},
     "output_type": "display_data"
    },
    {
     "name": "stdout",
     "output_type": "stream",
     "text": [
      "Label for Patient ID 'aaaaaaug': 1\n",
      "file ran\n"
     ]
    },
    {
     "name": "stderr",
     "output_type": "stream",
     "text": [
      "/var/folders/49/g0lpzfvd69300kvmdpb070m40000gn/T/ipykernel_38387/556509763.py:114: RuntimeWarning: No bad channels to interpolate. Doing nothing...\n",
      "  RawEEGDataFile.interpolate_bads(verbose=False)\n"
     ]
    },
    {
     "data": {
      "text/plain": [
       "'/Volumes/SDCARD/v2.0.3/edf/train/aaaaaaug/s002_2003/02_tcp_le/aaaaaaug_s002_t008.edf'"
      ]
     },
     "metadata": {},
     "output_type": "display_data"
    },
    {
     "name": "stdout",
     "output_type": "stream",
     "text": [
      "Label for Patient ID 'aaaaaaug': 1\n",
      "file ran\n"
     ]
    },
    {
     "name": "stderr",
     "output_type": "stream",
     "text": [
      "/var/folders/49/g0lpzfvd69300kvmdpb070m40000gn/T/ipykernel_38387/556509763.py:114: RuntimeWarning: No bad channels to interpolate. Doing nothing...\n",
      "  RawEEGDataFile.interpolate_bads(verbose=False)\n"
     ]
    },
    {
     "data": {
      "text/plain": [
       "'/Volumes/SDCARD/v2.0.3/edf/train/aaaaaaug/s002_2003/02_tcp_le/aaaaaaug_s002_t009.edf'"
      ]
     },
     "metadata": {},
     "output_type": "display_data"
    },
    {
     "name": "stdout",
     "output_type": "stream",
     "text": [
      "Label for Patient ID 'aaaaaaug': 1\n",
      "file ran\n"
     ]
    },
    {
     "name": "stderr",
     "output_type": "stream",
     "text": [
      "/var/folders/49/g0lpzfvd69300kvmdpb070m40000gn/T/ipykernel_38387/556509763.py:114: RuntimeWarning: No bad channels to interpolate. Doing nothing...\n",
      "  RawEEGDataFile.interpolate_bads(verbose=False)\n"
     ]
    },
    {
     "data": {
      "text/plain": [
       "'/Volumes/SDCARD/v2.0.3/edf/train/aaaaaaug/s003_2003/02_tcp_le/aaaaaaug_s003_t000.edf'"
      ]
     },
     "metadata": {},
     "output_type": "display_data"
    },
    {
     "name": "stderr",
     "output_type": "stream",
     "text": [
      "/var/folders/49/g0lpzfvd69300kvmdpb070m40000gn/T/ipykernel_38387/556509763.py:114: RuntimeWarning: No bad channels to interpolate. Doing nothing...\n",
      "  RawEEGDataFile.interpolate_bads(verbose=False)\n"
     ]
    },
    {
     "name": "stdout",
     "output_type": "stream",
     "text": [
      "Label for Patient ID 'aaaaaaug': 1\n",
      "file ran\n"
     ]
    },
    {
     "data": {
      "text/plain": [
       "'/Volumes/SDCARD/v2.0.3/edf/train/aaaaaaug/s003_2003/02_tcp_le/aaaaaaug_s003_t001.edf'"
      ]
     },
     "metadata": {},
     "output_type": "display_data"
    },
    {
     "name": "stderr",
     "output_type": "stream",
     "text": [
      "/var/folders/49/g0lpzfvd69300kvmdpb070m40000gn/T/ipykernel_38387/556509763.py:114: RuntimeWarning: No bad channels to interpolate. Doing nothing...\n",
      "  RawEEGDataFile.interpolate_bads(verbose=False)\n"
     ]
    },
    {
     "name": "stdout",
     "output_type": "stream",
     "text": [
      "Label for Patient ID 'aaaaaaug': 1\n",
      "file ran\n"
     ]
    },
    {
     "data": {
      "text/plain": [
       "'/Volumes/SDCARD/v2.0.3/edf/train/aaaaaaug/s004_2003/02_tcp_le/aaaaaaug_s004_t001.edf'"
      ]
     },
     "metadata": {},
     "output_type": "display_data"
    },
    {
     "name": "stderr",
     "output_type": "stream",
     "text": [
      "/var/folders/49/g0lpzfvd69300kvmdpb070m40000gn/T/ipykernel_38387/556509763.py:114: RuntimeWarning: No bad channels to interpolate. Doing nothing...\n",
      "  RawEEGDataFile.interpolate_bads(verbose=False)\n"
     ]
    },
    {
     "name": "stdout",
     "output_type": "stream",
     "text": [
      "Label for Patient ID 'aaaaaaug': 1\n",
      "file ran\n"
     ]
    },
    {
     "data": {
      "text/plain": [
       "'/Volumes/SDCARD/v2.0.3/edf/train/aaaaaauj/s001_2003/02_tcp_le/aaaaaauj_s001_t001.edf'"
      ]
     },
     "metadata": {},
     "output_type": "display_data"
    },
    {
     "name": "stderr",
     "output_type": "stream",
     "text": [
      "/var/folders/49/g0lpzfvd69300kvmdpb070m40000gn/T/ipykernel_38387/556509763.py:114: RuntimeWarning: No bad channels to interpolate. Doing nothing...\n",
      "  RawEEGDataFile.interpolate_bads(verbose=False)\n"
     ]
    },
    {
     "name": "stdout",
     "output_type": "stream",
     "text": [
      "Label for Patient ID 'aaaaaauj': 1\n",
      "file ran\n"
     ]
    },
    {
     "data": {
      "text/plain": [
       "'/Volumes/SDCARD/v2.0.3/edf/train/aaaaaauj/s002_2003/02_tcp_le/aaaaaauj_s002_t001.edf'"
      ]
     },
     "metadata": {},
     "output_type": "display_data"
    },
    {
     "name": "stderr",
     "output_type": "stream",
     "text": [
      "/var/folders/49/g0lpzfvd69300kvmdpb070m40000gn/T/ipykernel_38387/556509763.py:114: RuntimeWarning: No bad channels to interpolate. Doing nothing...\n",
      "  RawEEGDataFile.interpolate_bads(verbose=False)\n"
     ]
    },
    {
     "name": "stdout",
     "output_type": "stream",
     "text": [
      "Label for Patient ID 'aaaaaauj': 1\n",
      "file ran\n"
     ]
    },
    {
     "data": {
      "text/plain": [
       "'/Volumes/SDCARD/v2.0.3/edf/train/aaaaaauj/s003_2003/02_tcp_le/aaaaaauj_s003_t001.edf'"
      ]
     },
     "metadata": {},
     "output_type": "display_data"
    },
    {
     "name": "stderr",
     "output_type": "stream",
     "text": [
      "/var/folders/49/g0lpzfvd69300kvmdpb070m40000gn/T/ipykernel_38387/556509763.py:114: RuntimeWarning: No bad channels to interpolate. Doing nothing...\n",
      "  RawEEGDataFile.interpolate_bads(verbose=False)\n"
     ]
    },
    {
     "name": "stdout",
     "output_type": "stream",
     "text": [
      "Label for Patient ID 'aaaaaauj': 1\n",
      "file ran\n"
     ]
    },
    {
     "data": {
      "text/plain": [
       "'/Volumes/SDCARD/v2.0.3/edf/train/aaaaaauj/s004_2012/01_tcp_ar/aaaaaauj_s004_t000.edf'"
      ]
     },
     "metadata": {},
     "output_type": "display_data"
    },
    {
     "name": "stderr",
     "output_type": "stream",
     "text": [
      "/var/folders/49/g0lpzfvd69300kvmdpb070m40000gn/T/ipykernel_38387/556509763.py:114: RuntimeWarning: No bad channels to interpolate. Doing nothing...\n",
      "  RawEEGDataFile.interpolate_bads(verbose=False)\n"
     ]
    },
    {
     "name": "stdout",
     "output_type": "stream",
     "text": [
      "Label for Patient ID 'aaaaaauj': 1\n",
      "file ran\n"
     ]
    },
    {
     "data": {
      "text/plain": [
       "'/Volumes/SDCARD/v2.0.3/edf/train/aaaaaavx/s006_2012/01_tcp_ar/aaaaaavx_s006_t000.edf'"
      ]
     },
     "metadata": {},
     "output_type": "display_data"
    },
    {
     "name": "stderr",
     "output_type": "stream",
     "text": [
      "/var/folders/49/g0lpzfvd69300kvmdpb070m40000gn/T/ipykernel_38387/556509763.py:114: RuntimeWarning: No bad channels to interpolate. Doing nothing...\n",
      "  RawEEGDataFile.interpolate_bads(verbose=False)\n"
     ]
    },
    {
     "name": "stdout",
     "output_type": "stream",
     "text": [
      "Label for Patient ID 'aaaaaavx': 1\n",
      "file ran\n"
     ]
    },
    {
     "data": {
      "text/plain": [
       "'/Volumes/SDCARD/v2.0.3/edf/train/aaaaaavx/s006_2012/01_tcp_ar/aaaaaavx_s006_t001.edf'"
      ]
     },
     "metadata": {},
     "output_type": "display_data"
    },
    {
     "name": "stdout",
     "output_type": "stream",
     "text": [
      "Label for Patient ID 'aaaaaavx': 1\n",
      "file ran\n"
     ]
    },
    {
     "name": "stderr",
     "output_type": "stream",
     "text": [
      "/var/folders/49/g0lpzfvd69300kvmdpb070m40000gn/T/ipykernel_38387/556509763.py:114: RuntimeWarning: No bad channels to interpolate. Doing nothing...\n",
      "  RawEEGDataFile.interpolate_bads(verbose=False)\n"
     ]
    },
    {
     "data": {
      "text/plain": [
       "'/Volumes/SDCARD/v2.0.3/edf/train/aaaaaawc/s001_2003/02_tcp_le/aaaaaawc_s001_t001.edf'"
      ]
     },
     "metadata": {},
     "output_type": "display_data"
    },
    {
     "name": "stderr",
     "output_type": "stream",
     "text": [
      "/var/folders/49/g0lpzfvd69300kvmdpb070m40000gn/T/ipykernel_38387/556509763.py:114: RuntimeWarning: No bad channels to interpolate. Doing nothing...\n",
      "  RawEEGDataFile.interpolate_bads(verbose=False)\n"
     ]
    },
    {
     "name": "stdout",
     "output_type": "stream",
     "text": [
      "Label for Patient ID 'aaaaaawc': 1\n",
      "file ran\n"
     ]
    },
    {
     "data": {
      "text/plain": [
       "'/Volumes/SDCARD/v2.0.3/edf/train/aaaaaawc/s002_2003/02_tcp_le/aaaaaawc_s002_t001.edf'"
      ]
     },
     "metadata": {},
     "output_type": "display_data"
    },
    {
     "name": "stderr",
     "output_type": "stream",
     "text": [
      "/var/folders/49/g0lpzfvd69300kvmdpb070m40000gn/T/ipykernel_38387/556509763.py:114: RuntimeWarning: No bad channels to interpolate. Doing nothing...\n",
      "  RawEEGDataFile.interpolate_bads(verbose=False)\n"
     ]
    },
    {
     "ename": "",
     "evalue": "",
     "output_type": "error",
     "traceback": [
      "\u001b[1;31mThe Kernel crashed while executing code in the current cell or a previous cell. \n",
      "\u001b[1;31mPlease review the code in the cell(s) to identify a possible cause of the failure. \n",
      "\u001b[1;31mClick <a href='https://aka.ms/vscodeJupyterKernelCrash'>here</a> for more info. \n",
      "\u001b[1;31mView Jupyter <a href='command:jupyter.viewOutput'>log</a> for further details."
     ]
    }
   ],
   "source": [
    "import matplotlib.pyplot as plt\n",
    "import numpy as np\n",
    "import pandas as pd\n",
    "import ipywidgets\n",
    "import mne\n",
    "import os\n",
    "# import boto3\n",
    "# import sagemaker\n",
    "# from sagemaker import get_execution_role\n",
    "# from botocore.exceptions import NoCredentialsError\n",
    "from mne import Epochs, compute_covariance, find_events, make_ad_hoc_cov\n",
    "from mne.datasets import sample\n",
    "from mne.preprocessing import annotate_movement, compute_average_dev_head_t, annotate_muscle_zscore, find_eog_events\n",
    "from mne.datasets.brainstorm import bst_auditory\n",
    "from mne.io import read_raw_ctf, read_raw_edf\n",
    "from mne.viz import plot_alignment, set_3d_view\n",
    "from mne.simulation import (\n",
    "    add_ecg,\n",
    "    add_eog,\n",
    "    add_noise,\n",
    "    simulate_raw,\n",
    "    simulate_sparse_stc,\n",
    ")\n",
    "import torch\n",
    "from torch.utils.data import Dataset, DataLoader\n",
    "\n",
    "\n",
    "EDFInputPath = r'/Volumes/SDCARD/v2.0.3/edf/train'\n",
    "EDFOutputPath = 'OutputFiles'\n",
    "\n",
    "# import a csv file with the patient ID and the label\n",
    "df = pd.read_csv(r'EEG_real_time_seizure_detection/DiseaseLabels.csv')\n",
    "\n",
    "# make the voices go away\n",
    "mne.set_log_level(verbose=False)\n",
    "\n",
    "# run through all of the files present in the folder\n",
    "def AllEDFProcess(EDFFolder):\n",
    "    # if not os.path.exists(EDFOutputPath):\n",
    "    #     os.makedirs(EDFOutputPath)\n",
    "    \n",
    "    # for FileName in os.listdir(EDFFolder):\n",
    "    #     if FileName.endswith('.edf'):\n",
    "    #         EDFFilePath = os.path.join(EDFFolder, FileName)\n",
    "    #         EDFProcess(EDFFilePath)\n",
    "    # EDFFiles = list_edf_files_from_s3(BucketName, EDFFolder)\n",
    "    DataFiles = []\n",
    "    PSD_Array = []\n",
    "    display(EDFFolder)\n",
    "    processed_data_array = []\n",
    "    # for all of the files in the local folder, find the ones that have .edf endings and then create the overall directory to get them, add the name to a list\n",
    "    # for FileName in os.listdir(EDFFolder):\n",
    "    #       if FileName.endswith('.edf'):\n",
    "    #          EDFFilePath = os.path.join(EDFFolder, FileName)\n",
    "    #          #processed_data, PSD_data = EDFProcess(EDFFilePath)\n",
    "    #          DataFiles.append(FileName)\n",
    "    #          #processed_data_array.append(processed_data)\n",
    "    #          #PSD_Array.append(PSD_data)\n",
    "    #          #return processed_data, PSD_data, EEG_image, DataFiles\n",
    "    for root, dirs, files in os.walk(EDFFolder):\n",
    "        for file in files:\n",
    "            if file.endswith('.edf'):\n",
    "                EDFFilePath = os.path.join(root, file)\n",
    "                DataFiles.append(EDFFilePath)\n",
    "    # if not os.path.exists(temp_dir):\n",
    "    #     os.makedirs(temp_dir)\n",
    "    #display(DataFiles)\n",
    "    # display(root)\n",
    "    # display(dirs)\n",
    "    # display(files)\n",
    "    BPEEGDataFiles = []\n",
    "    label = []\n",
    "    # run through each file individually\n",
    "    for f in DataFiles:\n",
    "        print('file ran')\n",
    "        display(f)\n",
    "        # split the file parts by the underscores\n",
    "        FileParts = f.split('/')\n",
    "        #display(FileParts)\n",
    "        #display(FileParts)\n",
    "        # find the patient ID (this could change based on your file structure)\n",
    "        patient_id = FileParts[6]\n",
    "        #print(patient_id)\n",
    "        # check if one of the dataframe names matches the patient ID\n",
    "        label_row = df[df['name'] == patient_id]\n",
    "\n",
    "        # if it does (i.e. if the row isn't empty)\n",
    "        if not label_row.empty:\n",
    "            # Add the label name\n",
    "            label = label_row.iloc[0]['label']\n",
    "            # create the complete file pathway name\n",
    "            ff = os.path.join(EDFFolder, f)\n",
    "            # run the edf process\n",
    "            BPEEGDataFile, ADRatioDF = EDFProcess(ff)\n",
    "            # add the processed data and the label to a list\n",
    "            BPEEGDataFiles.append((BPEEGDataFile.get_data(), label))\n",
    "            # add the AD ratio data to a list\n",
    "            PSD_Array.append(ADRatioDF)\n",
    "            \n",
    "            print(f\"Label for Patient ID '{patient_id}': {label}\")\n",
    "        else:\n",
    "            print(f\"No label found for Patient ID '{patient_id}'\")\n",
    "    \n",
    "    return BPEEGDataFiles, ADRatioDF\n",
    "\n",
    "        \n",
    "        \n",
    "            \n",
    "            \n",
    "# Process the edf files\n",
    "def EDFProcess(EDFFilePath):\n",
    "    # get raw file\n",
    "    RawEEGDataFile = mne.io.read_raw_edf(EDFFilePath, preload=True, verbose=False)\n",
    "    RawEEGDataFile.interpolate_bads(verbose=False)\n",
    "\n",
    "    \n",
    "\n",
    "    # bandpass raw file\n",
    "    BPEEGDataFile = BPFilter(RawEEGDataFile)\n",
    "    \n",
    "    \n",
    "    # AD ratio raw file\n",
    "    ADRatioDF = AlphaDeltaProcess(BPEEGDataFile)\n",
    "    \n",
    "    # return processed file and AD ratio dataframe\n",
    "    return BPEEGDataFile, ADRatioDF\n",
    "\n",
    "# Bandpass Filtering\n",
    "def BPFilter(RawEEGDataFile):\n",
    "    BPEEGDataFile = RawEEGDataFile.copy().filter(l_freq=0.5, h_freq=40.0, fir_design='firwin', verbose=False)\n",
    "    return BPEEGDataFile\n",
    "\n",
    "\n",
    "## ALPHA DELTA PSD ANALYSIS AND DATA FRAMING ##\n",
    "def AlphaDeltaProcess(EEGFile):\n",
    "    AlphaComp = EEGFile.compute_psd(method='welch', fmin=8, fmax=12, tmin=None, tmax=None, picks='eeg', exclude=(), proj=False, remove_dc=True, reject_by_annotation=True, n_jobs=1, verbose='CRITICAL')\n",
    "    AlphaPSD, AlphaFreq = AlphaComp.get_data(return_freqs=True)\n",
    "    #display(AlphaComp)\n",
    "    DeltaComp = EEGFile.compute_psd(method='welch', fmin=0.5, fmax=4, tmin=None, tmax=None, picks='eeg', exclude=(), proj=False, remove_dc=True, reject_by_annotation=True, n_jobs=1, verbose='CRITICAL')\n",
    "    DeltaPSD, DeltaFreq = DeltaComp.get_data(return_freqs=True)\n",
    "    #DeltaComp.plot()\n",
    "    #raw_csd = mne.preprocessing.compute_current_source_density(RawEEGDataFile);\n",
    "\n",
    "    ChanLab = EEGFile.ch_names\n",
    "\n",
    "    AlphaMean = AlphaPSD.mean(axis=1)\n",
    "    DeltaMean = DeltaPSD.mean(axis=1)\n",
    "\n",
    "    AlDeRat = AlphaMean / DeltaMean\n",
    "\n",
    "    PSDRatDF = pd.DataFrame({'Channel': ChanLab,'Alpha Power': AlphaMean,'Delta Power': DeltaMean,'Alpha/Delta Ratio': AlDeRat})\n",
    "\n",
    "    #display(PSDRatDF)\n",
    "    return PSDRatDF\n",
    "\n",
    "\n",
    "# Run the function\n",
    "BPEEGDataFiles, ADRatioDF = AllEDFProcess(EDFInputPath)\n",
    "\n",
    "\n",
    "# def bipolar_signals_func(signals):\n",
    "#     bipolar_signals = [] # Initialize an empty list to store bipolar signals\n",
    "\n",
    "#     # Subtract signals from specific EEG channels to create bipolar signals\n",
    "#     bipolar_signals.append(signals[0]-signals[4]) #fp1-f7\n",
    "#     bipolar_signals.append(signals[1]-signals[5]) #fp2-f8\n",
    "#     bipolar_signals.append(signals[4]-signals[9]) #f7-t3\n",
    "#     bipolar_signals.append(signals[5]-signals[10]) #f8-t4\n",
    "#     bipolar_signals.append(signals[9]-signals[15]) #t3-t5\n",
    "#     bipolar_signals.append(signals[10]-signals[16]) #t4-t6\n",
    "#     bipolar_signals.append(signals[15]-signals[13]) #t5-o1\n",
    "#     bipolar_signals.append(signals[16]-signals[14]) #t6-o2\n",
    "#     bipolar_signals.append(signals[9]-signals[6]) #t3-c3\n",
    "#     bipolar_signals.append(signals[7]-signals[10]) #c4-t4\n",
    "#     bipolar_signals.append(signals[6]-signals[8]) #c3-cz\n",
    "#     bipolar_signals.append(signals[8]-signals[7]) #cz-c4\n",
    "#     bipolar_signals.append(signals[0]-signals[2]) #fp1-f3\n",
    "#     bipolar_signals.append(signals[1]-signals[3]) #fp2-f4\n",
    "#     bipolar_signals.append(signals[2]-signals[6]) #f3-c3\n",
    "#     bipolar_signals.append(signals[3]-signals[7]) #f4-c4\n",
    "#     bipolar_signals.append(signals[6]-signals[11]) #c3-p3\n",
    "#     bipolar_signals.append(signals[7]-signals[12]) #c4-p4\n",
    "#     bipolar_signals.append(signals[11]-signals[13]) #p3-o1\n",
    "#     bipolar_signals.append(signals[12]-signals[14]) #p4-o2\n",
    "\n",
    "#     return bipolar_signals  # Return the bipolar signals as a NumPy array\n",
    "\n",
    "\n",
    "class Detector_Dataset(Dataset):\n",
    "    def __init__(self, data_paths, labels, args):\n",
    "        self.data_paths = data_paths  # Paths to the preprocessed data files\n",
    "        self.labels = labels  # Corresponding labels for each data file\n",
    "        self.args = args  # Configuration arguments (e.g., window size, eeg_type)\n",
    "    \n",
    "    def __len__(self):\n",
    "        return len(self.data_paths)\n",
    "    \n",
    "    def __getitem__(self, index):\n",
    "        # Load preprocessed EEG data from .edf file\n",
    "        data_path = self.data_paths[index]\n",
    "        raw = mne.io.read_raw_edf(data_path, preload=True, verbose=False)  # Load the EDF file\n",
    "        signals = raw.get_data()  # Extract the raw EEG signals as a NumPy array\n",
    "        label = self.labels[index]\n",
    "\n",
    "        # Depending on the configuration, apply bipolar or unipolar processing\n",
    "        # if self.args.eeg_type == \"bipolar\":\n",
    "        #     signals = bipolar_signals_func(signals)  # Apply bipolar processing\n",
    "        #     signals = torch.tensor(signals)  # Convert to tensor\n",
    "        # elif self.args.eeg_type == \"uni_bipolar\":\n",
    "        #     bipolar_signals = bipolar_signals_func(signals)\n",
    "        #     signals = torch.cat((torch.tensor(signals), torch.tensor(bipolar_signals)))  # Combine unipolar and bipolar signals\n",
    "        # else:\n",
    "        signals = torch.tensor(signals)\n",
    "\n",
    "        return signals, label, data_path.split(\"/\")[-1].split(\".\")[0]\n",
    "\n",
    "def eeg_binary_collate_fn(batch):\n",
    "    def seq_length_(p):\n",
    "        return len(p[0])\n",
    "\n",
    "    def target_length_(p):\n",
    "        return len(p[1])\n",
    "\n",
    "    # Sort batch by sequence length in descending order\n",
    "    batch = sorted(batch, key=lambda x: len(x[0]), reverse=True)\n",
    "\n",
    "    seq_lengths = torch.IntTensor([len(sample[0]) for sample in batch])\n",
    "    target_lengths = torch.IntTensor([1 for sample in batch])  # Assuming binary labels, can adjust based on actual use\n",
    "    batch_size = len(batch)\n",
    "\n",
    "    # Determine maximum sequence length in the batch\n",
    "    max_seq_length = seq_lengths.max().item()\n",
    "    eeg_type_size = len(batch[0][0])  # Number of EEG channels (e.g., 20 for bipolar, 21 for unipolar+bipolar)\n",
    "\n",
    "    # Prepare zero-padded tensors for EEG sequences and targets\n",
    "    seqs = torch.zeros(batch_size, max_seq_length, eeg_type_size)\n",
    "    targets = torch.zeros(batch_size).to(torch.long)\n",
    "    signal_name_list = []\n",
    "\n",
    "    for i in range(batch_size):\n",
    "        sample = batch[i]\n",
    "        signals, label, signal_name = sample\n",
    "        seq_length = len(signals)\n",
    "\n",
    "        # Copy the EEG signals into the corresponding batch tensor, with padding where needed\n",
    "        seqs[i, :seq_length] = signals.permute(1, 0)  # Adjusting dimension to match expected batch format\n",
    "        targets[i] = label\n",
    "        signal_name_list.append(signal_name)\n",
    "\n",
    "    return seqs, targets, seq_lengths, target_lengths, [], signal_name_list\n",
    "\n",
    "args = {\n",
    "    'batch_size': 32,\n",
    "    'eeg_type': 'unipolar',\n",
    "    'window_size': 4,\n",
    "    'window_shift': 1,\n",
    "    'sample_rate': 256,\n",
    "    'augmentation': False\n",
    "}\n",
    "\n",
    "# Set the columns to the signal and label data\n",
    "display(BPEEGDataFiles)\n",
    "SignalData = [row[0] for row in BPEEGDataFiles]\n",
    "LabelData = [row[1] for row in BPEEGDataFiles]\n",
    "\n",
    "Detector_Dataset(SignalData, LabelData, args)\n",
    "#for batch in DataLoader:\n",
    " #   sequences, targets, seq_lengths, target_lengths, aug_list, signal_name_list = batch\n",
    "\n",
    "# Assuming you have the following:\n",
    "# - preprocessed_data_paths: List of paths to the preprocessed EEG data files.\n",
    "# - labels: Corresponding labels for each preprocessed file.\n",
    "# - args: Configuration arguments (contains settings like eeg_type, batch_size, etc.).\n",
    "\n"
   ]
  },
  {
   "cell_type": "code",
   "execution_count": null,
   "metadata": {},
   "outputs": [],
   "source": []
  }
 ],
 "metadata": {
  "kernelspec": {
   "display_name": "mne",
   "language": "python",
   "name": "python3"
  },
  "language_info": {
   "codemirror_mode": {
    "name": "ipython",
    "version": 3
   },
   "file_extension": ".py",
   "mimetype": "text/x-python",
   "name": "python",
   "nbconvert_exporter": "python",
   "pygments_lexer": "ipython3",
   "version": "3.12.6"
  }
 },
 "nbformat": 4,
 "nbformat_minor": 2
}
