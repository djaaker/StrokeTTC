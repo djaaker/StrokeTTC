{
 "cells": [
  {
   "cell_type": "markdown",
   "metadata": {},
   "source": [
    "To help you prepare your EEG data for input into a ResNet model, we can go through the steps of loading the .edf files, preprocessing the data, and setting up the format for input into ResNet. Here's an outline of the process:\n",
    "\n",
    "1. **Load .edf files**: We'll use the `pyEDFlib` library to load the EEG data.\n",
    "2. **Preprocess the EEG data**: This may involve normalization or other preprocessing specific to EEG signals.\n",
    "3. **Label encoding**: We'll ensure that the labels (normal or abnormal) are mapped into numerical values.\n",
    "4. **Reshape data for ResNet**: ResNet typically expects input in a specific shape (e.g., (batch_size, height, width, channels)), so we'll format the EEG data accordingly."
   ]
  },
  {
   "cell_type": "code",
   "execution_count": null,
   "metadata": {},
   "outputs": [],
   "source": [
    "import pyedflib\n",
    "import numpy as np\n",
    "from sklearn.preprocessing import LabelEncoder\n",
    "from tensorflow.keras.utils import to_categorical\n",
    "\n",
    "# Paths to your 10 .edf files\n",
    "file_paths = ['file1.edf', 'file2.edf', 'file3.edf', 'file4.edf', 'file5.edf',\n",
    "              'file6.edf', 'file7.edf', 'file8.edf', 'file9.edf', 'file10.edf']\n",
    "\n",
    "# Labels for the files: 'normal' or 'abnormal'\n",
    "labels = ['normal', 'abnormal', 'normal', 'normal', 'abnormal', \n",
    "          'abnormal', 'normal', 'abnormal', 'normal', 'abnormal']\n",
    "\n",
    "# Prepare label encoding\n",
    "label_encoder = LabelEncoder()\n",
    "encoded_labels = label_encoder.fit_transform(labels)\n",
    "categorical_labels = to_categorical(encoded_labels)\n",
    "\n",
    "# Function to load and preprocess each .edf file\n",
    "def load_and_preprocess_edf(file_path):\n",
    "    f = pyedflib.EdfReader(file_path)\n",
    "    num_signals = f.signals_in_file\n",
    "    signal_data = np.zeros((num_signals, f.getNSamples()[0]))\n",
    "\n",
    "    for i in range(num_signals):\n",
    "        signal_data[i, :] = f.readSignal(i)\n",
    "    \n",
    "    f.close()\n",
    "\n",
    "    # Preprocess data (e.g., normalization)\n",
    "    # Here we simply normalize to 0-1 range as an example\n",
    "    signal_data = (signal_data - np.min(signal_data)) / (np.max(signal_data) - np.min(signal_data))\n",
    "    \n",
    "    return signal_data\n",
    "\n",
    "# Load and preprocess all the files\n",
    "eeg_data = []\n",
    "for path in file_paths:\n",
    "    eeg_data.append(load_and_preprocess_edf(path))\n",
    "\n",
    "# Convert the list to a numpy array\n",
    "eeg_data = np.array(eeg_data)\n",
    "\n",
    "# Reshape data to fit ResNet input shape (assuming 1D signals, we can reshape to (samples, height, width, channels))\n",
    "# ResNet often takes 2D images, so you might need to adapt depending on your input size\n",
    "eeg_data = np.expand_dims(eeg_data, axis=-1)  # Add channel dimension\n",
    "\n",
    "print(\"EEG data shape:\", eeg_data.shape)\n",
    "print(\"Labels shape:\", categorical_labels.shape)"
   ]
  },
  {
   "cell_type": "markdown",
   "metadata": {},
   "source": [
    "### Key Steps:\n",
    "1. **Loading .edf files**: We use `pyedflib` to load the EEG signals.\n",
    "2. **Preprocessing**: The data is normalized, but you can modify the preprocessing step based on your needs.\n",
    "3. **Label Encoding**: The labels (normal or abnormal) are encoded into categorical values for training.\n",
    "4. **ResNet Input Shape**: We ensure the EEG data is reshaped to the required input dimensions for ResNet (e.g., adding a channel dimension).\n",
    "\n",
    "Once the data is preprocessed, you can split it into training and test sets and feed it into the ResNet model.\n",
    "\n",
    "Let me know if you'd like to adjust anything, like the preprocessing or data augmentation!"
   ]
  }
 ],
 "metadata": {
  "language_info": {
   "name": "python"
  }
 },
 "nbformat": 4,
 "nbformat_minor": 2
}
